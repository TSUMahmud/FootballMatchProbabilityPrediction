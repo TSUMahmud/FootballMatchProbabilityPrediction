{
  "nbformat": 4,
  "nbformat_minor": 0,
  "metadata": {
    "colab": {
      "name": "Football_Result_Prediction_Logistic.ipynb",
      "provenance": [],
      "collapsed_sections": []
    },
    "kernelspec": {
      "name": "python3",
      "display_name": "Python 3"
    },
    "language_info": {
      "name": "python"
    }
  },
  "cells": [
    {
      "cell_type": "code",
      "execution_count": null,
      "metadata": {
        "id": "11kFPOXctQHU"
      },
      "outputs": [],
      "source": [
        "import numpy as np\n",
        "import pandas as pd\n",
        "import warnings\n",
        "warnings.filterwarnings(\"ignore\")"
      ]
    },
    {
      "cell_type": "code",
      "source": [
        "from google.colab import drive\n",
        "drive.mount('/content/drive')"
      ],
      "metadata": {
        "colab": {
          "base_uri": "https://localhost:8080/"
        },
        "id": "lLoXDdt-y_ut",
        "outputId": "e8f63b6e-84c5-4954-f9cf-9a28e8735673"
      },
      "execution_count": null,
      "outputs": [
        {
          "output_type": "stream",
          "name": "stdout",
          "text": [
            "Mounted at /content/drive\n"
          ]
        }
      ]
    },
    {
      "cell_type": "code",
      "source": [
        "%ls"
      ],
      "metadata": {
        "colab": {
          "base_uri": "https://localhost:8080/"
        },
        "id": "5tJ0Ia0ozn7o",
        "outputId": "e28c56a7-0e8e-427b-9bbb-286c69f5f7af"
      },
      "execution_count": null,
      "outputs": [
        {
          "output_type": "stream",
          "name": "stdout",
          "text": [
            "\u001b[0m\u001b[01;34mdrive\u001b[0m/  \u001b[01;34msample_data\u001b[0m/\n"
          ]
        }
      ]
    },
    {
      "cell_type": "code",
      "source": [
        "test = pd.read_csv(\"/content/drive/MyDrive/7313Project/test_reduced.csv\")\n",
        "train = pd.read_csv(\"/content/drive/MyDrive/7313Project/train_reduced.csv\")\n",
        "testn = pd.read_csv(\"/content/drive/MyDrive/7313Project/test_reduced.csv\")\n",
        "target = pd.read_csv(\"/content/drive/MyDrive/7313Project/target.csv\")"
      ],
      "metadata": {
        "id": "zo7RWdrYzLme"
      },
      "execution_count": null,
      "outputs": []
    },
    {
      "cell_type": "code",
      "source": [
        "target['target'].hist()"
      ],
      "metadata": {
        "colab": {
          "base_uri": "https://localhost:8080/",
          "height": 284
        },
        "id": "5tcY2ejC0CCd",
        "outputId": "1049f860-9314-473c-8928-e8c5762ad7ef"
      },
      "execution_count": null,
      "outputs": [
        {
          "output_type": "execute_result",
          "data": {
            "text/plain": [
              "<matplotlib.axes._subplots.AxesSubplot at 0x7fc065ab3510>"
            ]
          },
          "metadata": {},
          "execution_count": 5
        },
        {
          "output_type": "display_data",
          "data": {
            "text/plain": [
              "<Figure size 432x288 with 1 Axes>"
            ],
            "image/png": "[encoded data removed]"
          },
          "metadata": {
            "needs_background": "light"
          }
        }
      ]
    },
    {
      "cell_type": "code",
      "source": [
        "train.drop(train.iloc[:, [0,1]], axis=1, inplace=True)\n",
        "test.drop(test.iloc[:, [0,1]], axis=1, inplace=True)"
      ],
      "metadata": {
        "id": "Q698yCjYzwsd"
      },
      "execution_count": null,
      "outputs": []
    },
    {
      "cell_type": "code",
      "source": [
        "from sklearn.preprocessing import LabelEncoder\n",
        "labelencoder = LabelEncoder()"
      ],
      "metadata": {
        "id": "ekyUTfuE6nww"
      },
      "execution_count": null,
      "outputs": []
    },
    {
      "cell_type": "code",
      "source": [
        "train['is_cup'] = labelencoder.fit_transform(train['is_cup'])\n",
        "test['is_cup'] = labelencoder.fit_transform(test['is_cup'])\n",
        "target['target'].replace({\"home\": 0, \"draw\": 1, \"away\":2}, inplace=True)\n",
        "train.drop(train.filter(regex='recorded_matches').columns, axis=1, inplace = True)\n",
        "test.drop(test.filter(regex='recorded_matches').columns, axis=1, inplace = True)\n",
        "train_x = train.copy()\n",
        "train_y = target['target'].copy()\n",
        "train_x.fillna(train_x.mean(), inplace=True)\n",
        "test.fillna(test.mean(), inplace=True)"
      ],
      "metadata": {
        "id": "AouFQ1g-0O1c"
      },
      "execution_count": null,
      "outputs": []
    },
    {
      "cell_type": "code",
      "source": [
        "from sklearn.preprocessing import StandardScaler\n",
        "#fit scaler on training data\n",
        "norm = StandardScaler().fit(train_x)\n",
        "#transform training data\n",
        "xtrain_norm = norm.transform(train_x)\n",
        "#transform testing data\n",
        "test_norm = norm.transform(test)"
      ],
      "metadata": {
        "id": "9ROUSxepAAmr"
      },
      "execution_count": null,
      "outputs": []
    },
    {
      "cell_type": "code",
      "source": [
        "from sklearn.linear_model import LogisticRegression\n",
        "from sklearn.model_selection import StratifiedKFold\n",
        "from sklearn.model_selection import cross_val_score\n",
        "\n",
        "\n",
        "cv_acc = cross_val_score(estimator=LogisticRegression(solver='lbfgs', class_weight='balanced', max_iter=10000),\n",
        "                         X=xtrain_norm,\n",
        "                         y=train_y,\n",
        "                         cv=10,\n",
        "                         n_jobs=-1)\n",
        "\n",
        "print('Kfold Accuracy: %.2f%%' % (np.mean(cv_acc)*100))"
      ],
      "metadata": {
        "colab": {
          "base_uri": "https://localhost:8080/"
        },
        "id": "vj0w5pwy57IG",
        "outputId": "93dcee66-c60a-49d5-af3a-3bb47fc814bb"
      },
      "execution_count": null,
      "outputs": [
        {
          "output_type": "stream",
          "name": "stdout",
          "text": [
            "Kfold Accuracy: 46.06%\n"
          ]
        }
      ]
    },
    {
      "cell_type": "code",
      "source": [
        "from sklearn.calibration import CalibratedClassifierCV\n",
        "\n",
        "lg = LogisticRegression(solver='lbfgs', class_weight='balanced', max_iter=10000)\n",
        "cc = CalibratedClassifierCV(lg, cv=10)\n",
        "cc.fit(xtrain_norm, train_y)\n",
        "prediction_1 = cc.predict_proba(test_norm)\n",
        "prediction_1"
      ],
      "metadata": {
        "colab": {
          "base_uri": "https://localhost:8080/"
        },
        "id": "ofEJQZQi_q79",
        "outputId": "a625234c-d6ed-47bc-8a5a-33e6151f49f7"
      },
      "execution_count": null,
      "outputs": [
        {
          "output_type": "execute_result",
          "data": {
            "text/plain": [
              "array([[0.41770758, 0.31009521, 0.2721972 ],\n",
              "       [0.33941906, 0.29585446, 0.36472648],\n",
              "       [0.40634521, 0.28854204, 0.30511276],\n",
              "       ...,\n",
              "       [0.0920527 , 0.25089735, 0.65704994],\n",
              "       [0.5427168 , 0.28666719, 0.17061601],\n",
              "       [0.37048226, 0.26710045, 0.36241728]])"
            ]
          },
          "metadata": {},
          "execution_count": 75
        }
      ]
    },
    {
      "cell_type": "code",
      "source": [
        "y_pred = cc.predict(xtrain_norm)\n",
        "train_acc = np.mean(y_pred == train_y)*100\n",
        "train_acc"
      ],
      "metadata": {
        "colab": {
          "base_uri": "https://localhost:8080/"
        },
        "id": "VdKJfv7eBWgo",
        "outputId": "93f18db3-7afb-496e-c29f-36916759ae42"
      },
      "execution_count": null,
      "outputs": [
        {
          "output_type": "execute_result",
          "data": {
            "text/plain": [
              "49.567325893742456"
            ]
          },
          "metadata": {},
          "execution_count": 76
        }
      ]
    },
    {
      "cell_type": "code",
      "source": [
        "from mlxtend.evaluate import confusion_matrix\n",
        "confmat = confusion_matrix(train_y, y_pred)\n",
        "\n",
        "print(confmat)"
      ],
      "metadata": {
        "colab": {
          "base_uri": "https://localhost:8080/"
        },
        "id": "OCkVhNTN76lm",
        "outputId": "2923918f-ee62-4656-bf6b-2ff474b04112"
      },
      "execution_count": null,
      "outputs": [
        {
          "output_type": "stream",
          "name": "stdout",
          "text": [
            "[[38475   272  9366]\n",
            " [19164   295  8192]\n",
            " [18729   226 16219]]\n"
          ]
        }
      ]
    },
    {
      "cell_type": "code",
      "source": [
        "target['target'].hist()"
      ],
      "metadata": {
        "colab": {
          "base_uri": "https://localhost:8080/",
          "height": 284
        },
        "id": "D0j1d2v--IvF",
        "outputId": "c5363713-c7ff-4339-ca13-cd7f476d140e"
      },
      "execution_count": null,
      "outputs": [
        {
          "output_type": "execute_result",
          "data": {
            "text/plain": [
              "<matplotlib.axes._subplots.AxesSubplot at 0x7f3d18047250>"
            ]
          },
          "metadata": {},
          "execution_count": 78
        },
        {
          "output_type": "display_data",
          "data": {
            "text/plain": [
              "<Figure size 432x288 with 1 Axes>"
            ],
            "image/png": "[encoded data removed]"
          },
          "metadata": {
            "needs_background": "light"
          }
        }
      ]
    },
    {
      "cell_type": "code",
      "source": [
        "submission = pd.concat([pd.DataFrame(testn['id']), pd.DataFrame(prediction_1, columns=['home', 'draw', 'away'])[['home', 'draw', 'away']]], axis=1)\n",
        "submission.to_csv('/content/drive/MyDrive/7313Project/submission_logistic.csv', index=False)"
      ],
      "metadata": {
        "id": "kSeeT5PuBpQv"
      },
      "execution_count": null,
      "outputs": []
    }
  ]
}