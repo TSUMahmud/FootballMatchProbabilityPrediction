{
  "nbformat": 4,
  "nbformat_minor": 0,
  "metadata": {
    "colab": {
      "name": "Football_Result_Prediction_XGBoost.ipynb",
      "provenance": []
    },
    "kernelspec": {
      "name": "python3",
      "display_name": "Python 3"
    },
    "language_info": {
      "name": "python"
    }
  },
  "cells": [
    {
      "cell_type": "code",
      "execution_count": 1,
      "metadata": {
        "id": "11kFPOXctQHU"
      },
      "outputs": [],
      "source": [
        "import numpy as np\n",
        "import pandas as pd"
      ]
    },
    {
      "cell_type": "code",
      "source": [
        "from google.colab import drive\n",
        "drive.mount('/content/drive')"
      ],
      "metadata": {
        "id": "lLoXDdt-y_ut",
        "colab": {
          "base_uri": "https://localhost:8080/"
        },
        "outputId": "4aa7c553-1ee5-4916-f0e5-451b67aee889"
      },
      "execution_count": 2,
      "outputs": [
        {
          "output_type": "stream",
          "name": "stdout",
          "text": [
            "Mounted at /content/drive\n"
          ]
        }
      ]
    },
    {
      "cell_type": "code",
      "source": [
        "%ls"
      ],
      "metadata": {
        "id": "5tJ0Ia0ozn7o",
        "colab": {
          "base_uri": "https://localhost:8080/"
        },
        "outputId": "90067bd3-3137-48c3-bbce-68d7504cb34a"
      },
      "execution_count": 3,
      "outputs": [
        {
          "output_type": "stream",
          "name": "stdout",
          "text": [
            "\u001b[0m\u001b[01;34mdrive\u001b[0m/  \u001b[01;34msample_data\u001b[0m/\n"
          ]
        }
      ]
    },
    {
      "cell_type": "code",
      "source": [
        "test = pd.read_csv(\"/content/drive/MyDrive/7313Project/test_with_all.csv\")\n",
        "train = pd.read_csv(\"/content/drive/MyDrive/7313Project/train_with_all.csv\")\n",
        "testn = pd.read_csv(\"/content/drive/MyDrive/7313Project/test_with_all.csv\")\n",
        "target = pd.read_csv(\"/content/drive/MyDrive/7313Project/target.csv\")"
      ],
      "metadata": {
        "id": "zo7RWdrYzLme",
        "colab": {
          "base_uri": "https://localhost:8080/"
        },
        "outputId": "138f411c-6772-4085-a670-c71678f8d0f6"
      },
      "execution_count": 4,
      "outputs": [
        {
          "output_type": "stream",
          "name": "stderr",
          "text": [
            "/usr/local/lib/python3.7/dist-packages/IPython/core/interactiveshell.py:2882: DtypeWarning: Columns (2) have mixed types.Specify dtype option on import or set low_memory=False.\n",
            "  exec(code_obj, self.user_global_ns, self.user_ns)\n"
          ]
        }
      ]
    },
    {
      "cell_type": "code",
      "source": [
        "train.drop(train.iloc[:, [0,1]], axis=1, inplace=True)\n",
        "test.drop(test.iloc[:, [0,1]], axis=1, inplace=True)"
      ],
      "metadata": {
        "id": "Q698yCjYzwsd"
      },
      "execution_count": 5,
      "outputs": []
    },
    {
      "cell_type": "code",
      "source": [
        "from sklearn.preprocessing import LabelEncoder\n",
        "labelencoder = LabelEncoder()"
      ],
      "metadata": {
        "id": "ekyUTfuE6nww"
      },
      "execution_count": 6,
      "outputs": []
    },
    {
      "cell_type": "code",
      "source": [
        "train['is_cup'] = labelencoder.fit_transform(train['is_cup'])\n",
        "test['is_cup'] = labelencoder.fit_transform(test['is_cup'])\n",
        "target['target'].replace({\"home\": 0, \"draw\": 1, \"away\":2}, inplace=True)\n",
        "train.drop(train.filter(regex='recorded_matches').columns, axis=1, inplace = True)\n",
        "test.drop(test.filter(regex='recorded_matches').columns, axis=1, inplace = True)\n",
        "train_x = train.copy()\n",
        "train_y = target['target'].copy()\n",
        "train_x.fillna(train_x.mean(), inplace=True)\n",
        "test.fillna(test.mean(), inplace=True)"
      ],
      "metadata": {
        "id": "AouFQ1g-0O1c"
      },
      "execution_count": 7,
      "outputs": []
    },
    {
      "cell_type": "code",
      "source": [
        "!pip install --upgrade xgboost"
      ],
      "metadata": {
        "colab": {
          "base_uri": "https://localhost:8080/"
        },
        "id": "kp84cnPExqKk",
        "outputId": "c182885a-e5ca-450c-a95e-5ff9c92717dc"
      },
      "execution_count": 8,
      "outputs": [
        {
          "output_type": "stream",
          "name": "stdout",
          "text": [
            "Requirement already satisfied: xgboost in /usr/local/lib/python3.7/dist-packages (0.90)\n",
            "Collecting xgboost\n",
            "  Downloading xgboost-1.6.0-py3-none-manylinux2014_x86_64.whl (193.7 MB)\n",
            "\u001b[K     |████████████████████████████████| 193.7 MB 33 kB/s \n",
            "\u001b[?25hRequirement already satisfied: scipy in /usr/local/lib/python3.7/dist-packages (from xgboost) (1.4.1)\n",
            "Requirement already satisfied: numpy in /usr/local/lib/python3.7/dist-packages (from xgboost) (1.21.6)\n",
            "Installing collected packages: xgboost\n",
            "  Attempting uninstall: xgboost\n",
            "    Found existing installation: xgboost 0.90\n",
            "    Uninstalling xgboost-0.90:\n",
            "      Successfully uninstalled xgboost-0.90\n",
            "Successfully installed xgboost-1.6.0\n"
          ]
        }
      ]
    },
    {
      "cell_type": "code",
      "source": [
        "from sklearn.preprocessing import StandardScaler\n",
        "#fit scaler on training data\n",
        "norm = StandardScaler().fit(train_x)\n",
        "#transform training data\n",
        "xtrain_norm = norm.transform(train_x)\n",
        "#transform testing data\n",
        "test_norm = norm.transform(test)"
      ],
      "metadata": {
        "id": "9ROUSxepAAmr"
      },
      "execution_count": 9,
      "outputs": []
    },
    {
      "cell_type": "code",
      "source": [
        "# from sklearn.tree import DecisionTreeClassifier\n",
        "# from sklearn.model_selection import train_test_split\n",
        "# from sklearn.ensemble import BaggingClassifier\n",
        "# from sklearn.ensemble import AdaBoostClassifier\n",
        "# from sklearn.ensemble import RandomForestClassifier\n",
        "# from sklearn.model_selection import cross_val_score\n",
        "# import xgboost as xgb\n",
        "\n",
        "# cv_acc = cross_val_score(estimator=xgb.XGBClassifier(),\n",
        "#                          X=xtrain_norm,\n",
        "#                          y=train_y,\n",
        "#                          cv=5,\n",
        "#                          n_jobs=5)\n",
        "\n",
        "# print('Kfold Accuracy: %.2f%%' % (np.mean(cv_acc)*100))"
      ],
      "metadata": {
        "id": "XucCkKPTI09r"
      },
      "execution_count": 10,
      "outputs": []
    },
    {
      "cell_type": "code",
      "source": [
        "from sklearn.model_selection import KFold, StratifiedKFold\n",
        "import xgboost as xgb\n",
        "test_preds_1 = []\n",
        "test_preds_2 = []\n",
        "\n",
        "kf = StratifiedKFold(n_splits=5, random_state=123, shuffle=True) # KFold\n",
        "i=0\n",
        "for fold, (train_idx, test_idx) in enumerate(kf.split(xtrain_norm, train_y)):\n",
        "    i=i+1\n",
        "    print(i)\n",
        "    X_train, X_test = xtrain_norm[train_idx], xtrain_norm[test_idx]\n",
        "    y_train, y_test = train_y.iloc[train_idx], train_y.iloc[test_idx]\n",
        "    model = xgb.XGBClassifier()\n",
        "    model.fit(X_train, y_train)\n",
        "    y_pred = model.predict(X_test)\n",
        "    train_acc = np.mean(y_pred == y_test)*100\n",
        "    confmat = confusion_matrix(y_pred, y_test)\n",
        "    print(train_acc)\n",
        "    print(confmat)\n",
        "    test_preds_1.append(model.predict_proba(xtrain_norm).squeeze())\n",
        "    test_preds_2.append(model.predict_proba(test_norm).squeeze())"
      ],
      "metadata": {
        "id": "nOgas4LE3BTp",
        "colab": {
          "base_uri": "https://localhost:8080/"
        },
        "outputId": "1ec27f87-9279-41c7-8698-c6f730556d5c"
      },
      "execution_count": 13,
      "outputs": [
        {
          "output_type": "stream",
          "name": "stdout",
          "text": [
            "1\n",
            "2\n",
            "3\n",
            "4\n",
            "5\n"
          ]
        }
      ]
    },
    {
      "cell_type": "code",
      "source": [
        "from mlxtend.evaluate import confusion_matrix\n",
        "predictions = sum(test_preds_1)/5\n",
        "classes = np.argmax(predictions, axis = 1)\n",
        "print(classes)\n",
        "y_true = train_y.squeeze()\n",
        "confmat = confusion_matrix(y_true, classes)\n",
        "\n",
        "print(confmat)"
      ],
      "metadata": {
        "id": "LRJMsetC_v4q",
        "colab": {
          "base_uri": "https://localhost:8080/"
        },
        "outputId": "c79c7b59-eb0e-487b-8518-669526f07813"
      },
      "execution_count": 14,
      "outputs": [
        {
          "output_type": "stream",
          "name": "stdout",
          "text": [
            "[2 0 2 ... 1 0 0]\n",
            "[[42421   259  5433]\n",
            " [15366  5814  6471]\n",
            " [12980   365 21829]]\n"
          ]
        }
      ]
    },
    {
      "cell_type": "code",
      "source": [
        "train_acc = np.mean(classes == y_true)*100\n",
        "train_acc"
      ],
      "metadata": {
        "id": "qGkYhoL20CnJ",
        "colab": {
          "base_uri": "https://localhost:8080/"
        },
        "outputId": "0f141c67-fb93-44be-f8fc-73813d5cf2f0"
      },
      "execution_count": 15,
      "outputs": [
        {
          "output_type": "execute_result",
          "data": {
            "text/plain": [
              "63.15599704339361"
            ]
          },
          "metadata": {},
          "execution_count": 15
        }
      ]
    },
    {
      "cell_type": "code",
      "source": [
        "prediction_1 = sum(test_preds_2)/5\n",
        "prediction_1"
      ],
      "metadata": {
        "id": "WjFreNo__v4r",
        "colab": {
          "base_uri": "https://localhost:8080/"
        },
        "outputId": "b8b4727f-53d1-453b-8a18-449c15d04326"
      },
      "execution_count": 16,
      "outputs": [
        {
          "output_type": "execute_result",
          "data": {
            "text/plain": [
              "array([[0.42552224, 0.32397112, 0.25050658],\n",
              "       [0.36555204, 0.31960824, 0.31483975],\n",
              "       [0.3499853 , 0.3561719 , 0.2938428 ],\n",
              "       ...,\n",
              "       [0.13650794, 0.24840207, 0.61509   ],\n",
              "       [0.5540945 , 0.28754282, 0.15836272],\n",
              "       [0.32603976, 0.3033595 , 0.37060076]], dtype=float32)"
            ]
          },
          "metadata": {},
          "execution_count": 16
        }
      ]
    },
    {
      "cell_type": "code",
      "source": [
        "submission = pd.concat([pd.DataFrame(testn['id']), pd.DataFrame(prediction_1, columns=['home', 'draw', 'away'])[['home', 'draw', 'away']]], axis=1)\n",
        "submission.to_csv('/content/drive/MyDrive/7313Project/submission_xgb.csv', index=False)"
      ],
      "metadata": {
        "id": "kSeeT5PuBpQv"
      },
      "execution_count": 17,
      "outputs": []
    }
  ]
}