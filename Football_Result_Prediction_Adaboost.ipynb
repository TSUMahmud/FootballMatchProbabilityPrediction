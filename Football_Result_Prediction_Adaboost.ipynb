{
  "nbformat": 4,
  "nbformat_minor": 0,
  "metadata": {
    "colab": {
      "name": "Football_Result_Prediction_Adaboost.ipynb",
      "provenance": [],
      "collapsed_sections": []
    },
    "kernelspec": {
      "name": "python3",
      "display_name": "Python 3"
    },
    "language_info": {
      "name": "python"
    }
  },
  "cells": [
    {
      "cell_type": "code",
      "execution_count": null,
      "metadata": {
        "id": "11kFPOXctQHU"
      },
      "outputs": [],
      "source": [
        "import numpy as np\n",
        "import pandas as pd\n",
        "import datetime as dt\n",
        "\n",
        "from sklearn.preprocessing import RobustScaler\n",
        "import statistics\n",
        "import math\n",
        "\n",
        "from warnings import simplefilter\n",
        "simplefilter(action=\"ignore\", category=pd.errors.PerformanceWarning)"
      ]
    },
    {
      "cell_type": "code",
      "source": [
        "from google.colab import drive\n",
        "drive.mount('/content/drive')"
      ],
      "metadata": {
        "id": "lLoXDdt-y_ut",
        "colab": {
          "base_uri": "https://localhost:8080/"
        },
        "outputId": "b01c8a38-6a8d-4e7f-e751-7a19e7ab381f"
      },
      "execution_count": null,
      "outputs": [
        {
          "output_type": "stream",
          "name": "stdout",
          "text": [
            "Mounted at /content/drive\n"
          ]
        }
      ]
    },
    {
      "cell_type": "code",
      "source": [
        "%ls"
      ],
      "metadata": {
        "id": "5tJ0Ia0ozn7o",
        "colab": {
          "base_uri": "https://localhost:8080/"
        },
        "outputId": "5da558e6-6237-48d4-f5b1-086c45907850"
      },
      "execution_count": null,
      "outputs": [
        {
          "output_type": "stream",
          "name": "stdout",
          "text": [
            "\u001b[0m\u001b[01;34mdrive\u001b[0m/  \u001b[01;34msample_data\u001b[0m/\n"
          ]
        }
      ]
    },
    {
      "cell_type": "code",
      "source": [
        "test = pd.read_csv(\"/content/drive/MyDrive/7313Project/test_reduced.csv\")\n",
        "train = pd.read_csv(\"/content/drive/MyDrive/7313Project/train_reduced.csv\")\n",
        "testn = pd.read_csv(\"/content/drive/MyDrive/7313Project/test_reduced.csv\")\n",
        "target = pd.read_csv(\"/content/drive/MyDrive/7313Project/target.csv\")"
      ],
      "metadata": {
        "id": "5_ofG36XB6Kx",
        "colab": {
          "base_uri": "https://localhost:8080/"
        },
        "outputId": "3f65b528-2a80-4c53-b686-8ed4d47df915"
      },
      "execution_count": null,
      "outputs": [
        {
          "output_type": "stream",
          "name": "stderr",
          "text": [
            "/usr/local/lib/python3.7/dist-packages/IPython/core/interactiveshell.py:2882: DtypeWarning: Columns (2) have mixed types.Specify dtype option on import or set low_memory=False.\n",
            "  exec(code_obj, self.user_global_ns, self.user_ns)\n"
          ]
        }
      ]
    },
    {
      "cell_type": "code",
      "source": [
        "train.drop(train.iloc[:, [0,1]], axis=1, inplace=True)\n",
        "test.drop(test.iloc[:, [0,1]], axis=1, inplace=True)"
      ],
      "metadata": {
        "id": "p1NzwWA5B6K5"
      },
      "execution_count": null,
      "outputs": []
    },
    {
      "cell_type": "code",
      "source": [
        "from sklearn.preprocessing import LabelEncoder\n",
        "labelencoder = LabelEncoder()"
      ],
      "metadata": {
        "id": "ekyUTfuE6nww"
      },
      "execution_count": null,
      "outputs": []
    },
    {
      "cell_type": "code",
      "source": [
        "train['is_cup'] = labelencoder.fit_transform(train['is_cup'])\n",
        "test['is_cup'] = labelencoder.fit_transform(test['is_cup'])\n",
        "target['target'].replace({\"home\": 0, \"draw\": 1, \"away\":2}, inplace=True)\n",
        "train.drop(train.filter(regex='recorded_matches').columns, axis=1, inplace = True)\n",
        "test.drop(test.filter(regex='recorded_matches').columns, axis=1, inplace = True)\n",
        "train_x = train.copy()\n",
        "train_y = target['target'].copy()\n",
        "train_x.fillna(train_x.mean(), inplace=True)\n",
        "test.fillna(test.mean(), inplace=True)"
      ],
      "metadata": {
        "id": "cIj9g04XB6K8"
      },
      "execution_count": null,
      "outputs": []
    },
    {
      "cell_type": "code",
      "source": [
        "from sklearn.preprocessing import StandardScaler\n",
        "\n",
        "#fit scaler on training data\n",
        "norm = StandardScaler().fit(train_x)\n",
        "#transform training data\n",
        "xtrain_norm = norm.transform(train_x)\n",
        "#transform testing data\n",
        "test_norm = norm.transform(test)"
      ],
      "metadata": {
        "id": "9ROUSxepAAmr"
      },
      "execution_count": null,
      "outputs": []
    },
    {
      "cell_type": "code",
      "source": [
        "from sklearn.tree import DecisionTreeClassifier\n",
        "from sklearn.model_selection import train_test_split\n",
        "from sklearn.ensemble import BaggingClassifier\n",
        "from sklearn.ensemble import AdaBoostClassifier\n",
        "\n",
        "# X_train, X_test, y_train, y_test = train_test_split(\n",
        "#     xtrain_norm, train_y, test_size=0.3, random_state=2, stratify=train_y)\n",
        "tree = DecisionTreeClassifier(criterion='entropy', max_depth=1)\n",
        "bc = AdaBoostClassifier(base_estimator=tree,\n",
        "                           n_estimators=500,\n",
        "                           algorithm='SAMME',\n",
        "                           random_state=1)\n",
        "bc.fit(xtrain_norm, train_y)\n",
        "\n",
        "y_pred = bc.predict(xtrain_norm)\n",
        "acc = np.mean(y_pred == train_y)*100\n",
        "acc"
      ],
      "metadata": {
        "id": "XucCkKPTI09r",
        "colab": {
          "base_uri": "https://localhost:8080/"
        },
        "outputId": "4ac2179e-789d-4a16-eaeb-bf3aaacb98b3"
      },
      "execution_count": null,
      "outputs": [
        {
          "output_type": "execute_result",
          "data": {
            "text/plain": [
              "49.54479078404154"
            ]
          },
          "metadata": {},
          "execution_count": 10
        }
      ]
    },
    {
      "cell_type": "code",
      "source": [
        "from mlxtend.evaluate import confusion_matrix\n",
        "confmat = confusion_matrix(train_y, y_pred)\n",
        "\n",
        "print(confmat)"
      ],
      "metadata": {
        "id": "7fSb_61ijz0Z",
        "colab": {
          "base_uri": "https://localhost:8080/"
        },
        "outputId": "ad8308d0-2ab5-4e13-f91b-1d218c6eb1a7"
      },
      "execution_count": null,
      "outputs": [
        {
          "output_type": "stream",
          "name": "stdout",
          "text": [
            "[[38046   307  9760]\n",
            " [18577   351  8723]\n",
            " [18333   274 16567]]\n"
          ]
        }
      ]
    },
    {
      "cell_type": "code",
      "source": [
        "prediction_1 = bc.predict_proba(test_norm)\n",
        "prediction_1"
      ],
      "metadata": {
        "id": "VdKJfv7eBWgo",
        "colab": {
          "base_uri": "https://localhost:8080/"
        },
        "outputId": "4889b702-b0e3-4518-da68-796bb1952134"
      },
      "execution_count": null,
      "outputs": [
        {
          "output_type": "execute_result",
          "data": {
            "text/plain": [
              "array([[0.33711172, 0.33182997, 0.33105831],\n",
              "       [0.3358022 , 0.33260819, 0.33158961],\n",
              "       [0.33856311, 0.33108596, 0.33035093],\n",
              "       ...,\n",
              "       [0.3277463 , 0.32895253, 0.34330117],\n",
              "       [0.35173505, 0.33031683, 0.31794812],\n",
              "       [0.3327427 , 0.33201623, 0.33524107]])"
            ]
          },
          "metadata": {},
          "execution_count": 12
        }
      ]
    },
    {
      "cell_type": "code",
      "source": [
        "submission = pd.concat([pd.DataFrame(testn['id']), pd.DataFrame(prediction_1, columns=['home', 'draw', 'away'])[['home', 'draw', 'away']]], axis=1)\n",
        "submission.to_csv('/content/drive/MyDrive/7313Project/submission_adaboost.csv', index=False)"
      ],
      "metadata": {
        "id": "kSeeT5PuBpQv"
      },
      "execution_count": null,
      "outputs": []
    }
  ]
}