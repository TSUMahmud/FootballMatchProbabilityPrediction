{
  "nbformat": 4,
  "nbformat_minor": 0,
  "metadata": {
    "colab": {
      "name": "Project_Football_Result_Prediction_Ensemble_XGBoost_LGBM.ipynb",
      "provenance": [],
      "collapsed_sections": []
    },
    "kernelspec": {
      "name": "python3",
      "display_name": "Python 3"
    },
    "language_info": {
      "name": "python"
    }
  },
  "cells": [
    {
      "cell_type": "code",
      "execution_count": null,
      "metadata": {
        "id": "11kFPOXctQHU"
      },
      "outputs": [],
      "source": [
        "import numpy as np\n",
        "import pandas as pd\n",
        "import datetime as dt\n",
        "\n",
        "from sklearn.preprocessing import RobustScaler\n",
        "import statistics\n",
        "import math\n",
        "\n",
        "from warnings import simplefilter\n",
        "simplefilter(action=\"ignore\", category=pd.errors.PerformanceWarning)"
      ]
    },
    {
      "cell_type": "code",
      "source": [
        "from google.colab import drive\n",
        "drive.mount('/content/drive')"
      ],
      "metadata": {
        "id": "lLoXDdt-y_ut",
        "colab": {
          "base_uri": "https://localhost:8080/"
        },
        "outputId": "5ef6c8ce-88c3-4f3e-8ac2-6f729d54191e"
      },
      "execution_count": null,
      "outputs": [
        {
          "output_type": "stream",
          "name": "stdout",
          "text": [
            "Drive already mounted at /content/drive; to attempt to forcibly remount, call drive.mount(\"/content/drive\", force_remount=True).\n"
          ]
        }
      ]
    },
    {
      "cell_type": "code",
      "source": [
        "%ls"
      ],
      "metadata": {
        "id": "5tJ0Ia0ozn7o",
        "colab": {
          "base_uri": "https://localhost:8080/"
        },
        "outputId": "d8940789-c85e-4b71-e7e8-840788f34fb2"
      },
      "execution_count": null,
      "outputs": [
        {
          "output_type": "stream",
          "name": "stdout",
          "text": [
            "\u001b[0m\u001b[01;34mdrive\u001b[0m/  \u001b[01;34msample_data\u001b[0m/\n"
          ]
        }
      ]
    },
    {
      "cell_type": "code",
      "source": [
        "test = pd.read_csv(\"/content/drive/MyDrive/7313Project/test_with_all.csv\")\n",
        "train = pd.read_csv(\"/content/drive/MyDrive/7313Project/train_with_all.csv\")\n",
        "testn = pd.read_csv(\"/content/drive/MyDrive/7313Project/test_with_all.csv\")\n",
        "target = pd.read_csv(\"/content/drive/MyDrive/7313Project/target.csv\")"
      ],
      "metadata": {
        "id": "5_ofG36XB6Kx",
        "colab": {
          "base_uri": "https://localhost:8080/"
        },
        "outputId": "20218d70-26cc-4ad6-f990-30ac6a497b41"
      },
      "execution_count": null,
      "outputs": [
        {
          "output_type": "stream",
          "name": "stderr",
          "text": [
            "/usr/local/lib/python3.7/dist-packages/IPython/core/interactiveshell.py:2882: DtypeWarning: Columns (2) have mixed types.Specify dtype option on import or set low_memory=False.\n",
            "  exec(code_obj, self.user_global_ns, self.user_ns)\n"
          ]
        }
      ]
    },
    {
      "cell_type": "code",
      "source": [
        "train.drop(train.iloc[:, [0,1]], axis=1, inplace=True)\n",
        "test.drop(test.iloc[:, [0,1]], axis=1, inplace=True)"
      ],
      "metadata": {
        "id": "p1NzwWA5B6K5"
      },
      "execution_count": null,
      "outputs": []
    },
    {
      "cell_type": "code",
      "source": [
        "from sklearn.preprocessing import LabelEncoder\n",
        "labelencoder = LabelEncoder()"
      ],
      "metadata": {
        "id": "ekyUTfuE6nww"
      },
      "execution_count": null,
      "outputs": []
    },
    {
      "cell_type": "code",
      "source": [
        "train['is_cup'] = labelencoder.fit_transform(train['is_cup'])\n",
        "test['is_cup'] = labelencoder.fit_transform(test['is_cup'])\n",
        "target['target'].replace({\"home\": 0, \"draw\": 1, \"away\":2}, inplace=True)\n",
        "train.drop(train.filter(regex='recorded_matches').columns, axis=1, inplace = True)\n",
        "test.drop(test.filter(regex='recorded_matches').columns, axis=1, inplace = True)\n",
        "train_x = train.copy()\n",
        "train_y = target['target'].copy()\n",
        "train_x.fillna(train_x.mean(), inplace=True)\n",
        "test.fillna(test.mean(), inplace=True)"
      ],
      "metadata": {
        "id": "cIj9g04XB6K8"
      },
      "execution_count": null,
      "outputs": []
    },
    {
      "cell_type": "code",
      "source": [
        "from sklearn.preprocessing import StandardScaler\n",
        "\n",
        "#fit scaler on training data\n",
        "norm = StandardScaler().fit(train_x)\n",
        "#transform training data\n",
        "xtrain_norm = norm.transform(train_x)\n",
        "#transform testing data\n",
        "test_norm = norm.transform(test)"
      ],
      "metadata": {
        "id": "9ROUSxepAAmr"
      },
      "execution_count": null,
      "outputs": []
    },
    {
      "cell_type": "code",
      "source": [
        "!pip install lightgbm"
      ],
      "metadata": {
        "colab": {
          "base_uri": "https://localhost:8080/"
        },
        "id": "hRZVP163xRpI",
        "outputId": "bdf610f1-876a-4bb0-f4a4-ed6aca535004"
      },
      "execution_count": null,
      "outputs": [
        {
          "output_type": "stream",
          "name": "stdout",
          "text": [
            "Requirement already satisfied: lightgbm in /usr/local/lib/python3.7/dist-packages (2.2.3)\n",
            "Requirement already satisfied: numpy in /usr/local/lib/python3.7/dist-packages (from lightgbm) (1.21.6)\n",
            "Requirement already satisfied: scikit-learn in /usr/local/lib/python3.7/dist-packages (from lightgbm) (1.0.2)\n",
            "Requirement already satisfied: scipy in /usr/local/lib/python3.7/dist-packages (from lightgbm) (1.4.1)\n",
            "Requirement already satisfied: threadpoolctl>=2.0.0 in /usr/local/lib/python3.7/dist-packages (from scikit-learn->lightgbm) (3.1.0)\n",
            "Requirement already satisfied: joblib>=0.11 in /usr/local/lib/python3.7/dist-packages (from scikit-learn->lightgbm) (1.1.0)\n"
          ]
        }
      ]
    },
    {
      "cell_type": "code",
      "source": [
        "from sklearn.model_selection import train_test_split\n",
        "\n",
        "X_train, X_test, y_train, y_test = train_test_split(\n",
        "    xtrain_norm, train_y, test_size=0.2, random_state=2, stratify=train_y)"
      ],
      "metadata": {
        "id": "nXetVsWyyIFz"
      },
      "execution_count": null,
      "outputs": []
    },
    {
      "cell_type": "code",
      "source": [
        "from sklearn.tree import DecisionTreeClassifier\n",
        "import lightgbm as lgb\n",
        "seed = 123\n",
        "lgbm_params = {\n",
        "    \"objective\":\"multiclass\",\n",
        "    \"boosting_type\":\"gbdt\",\n",
        "    'num_class':3,\n",
        "    'metric': \"multi_logloss\",\n",
        "    'learning_rate': 0.02,        \n",
        "    'lambda_l1': .2,\n",
        "    'lambda_l2': .8,\n",
        "    'num_leaves': 400,\n",
        "    'min_sum_hessian_in_leaf': 20,\n",
        "    'feature_fraction': 0.5,\n",
        "    'feature_fraction_bynode': 0.5,\n",
        "    'bagging_fraction': 0.5,\n",
        "    'bagging_freq': 42,\n",
        "    'min_data_in_leaf': 700,\n",
        "    'max_depth': 5,\n",
        "    'seed': seed,\n",
        "    'feature_fraction_seed': seed,\n",
        "    'bagging_seed': seed,\n",
        "    'drop_seed': seed,\n",
        "    'data_random_seed': seed,\n",
        "    'verbosity': -1\n",
        "}"
      ],
      "metadata": {
        "id": "XucCkKPTI09r"
      },
      "execution_count": null,
      "outputs": []
    },
    {
      "cell_type": "code",
      "source": [
        "from sklearn.model_selection import KFold, StratifiedKFold\n",
        "test_preds_1 = []\n",
        "test_preds_2 = []\n",
        "\n",
        "kf = StratifiedKFold(n_splits=5, random_state=seed, shuffle=True) # KFold\n",
        "\n",
        "for fold, (train_idx, test_idx) in enumerate(kf.split(xtrain_norm, train_y)):\n",
        "    X_train, X_test = xtrain_norm[train_idx], xtrain_norm[test_idx]\n",
        "    y_train, y_test = train_y.iloc[train_idx], train_y.iloc[test_idx]\n",
        "    train_dataset = lgb.Dataset(X_train, y_train)\n",
        "    val_dataset = lgb.Dataset(X_test, y_test)\n",
        "    model = lgb.train(params = lgbm_params, \n",
        "                    train_set = train_dataset, \n",
        "                    valid_sets = [train_dataset, val_dataset], \n",
        "                    num_boost_round = 5000, \n",
        "                    callbacks=[lgb.early_stopping(stopping_rounds=100)],\n",
        "                    verbose_eval = 100)\n",
        "    y_pred = model.predict(X_test).squeeze()\n",
        "    classes = np.argmax(y_pred, axis = 1)\n",
        "    valid_acc = np.mean(classes == y_test)\n",
        "    confmat = confusion_matrix(classes, y_test)\n",
        "    print(valid_acc)\n",
        "    print(confmat)\n",
        "    test_preds_1.append(model.predict(xtrain_norm).squeeze())\n",
        "    test_preds_2.append(model.predict(test_norm).squeeze())\n",
        "    lgb.plot_importance(model,max_num_features=10)"
      ],
      "metadata": {
        "colab": {
          "base_uri": "https://localhost:8080/",
          "height": 1000
        },
        "id": "nOgas4LE3BTp",
        "outputId": "cc7f314d-c791-4396-9057-f43a0a0f25d1"
      },
      "execution_count": null,
      "outputs": [
        {
          "output_type": "stream",
          "name": "stdout",
          "text": [
            "Training until validation scores don't improve for 100 rounds.\n",
            "[100]\ttraining's multi_logloss: 1.01619\tvalid_1's multi_logloss: 1.01982\n",
            "[200]\ttraining's multi_logloss: 1.00332\tvalid_1's multi_logloss: 1.01066\n",
            "[300]\ttraining's multi_logloss: 0.996656\tvalid_1's multi_logloss: 1.0074\n",
            "[400]\ttraining's multi_logloss: 0.991715\tvalid_1's multi_logloss: 1.00575\n",
            "[500]\ttraining's multi_logloss: 0.987444\tvalid_1's multi_logloss: 1.00471\n",
            "[600]\ttraining's multi_logloss: 0.983498\tvalid_1's multi_logloss: 1.00389\n",
            "[700]\ttraining's multi_logloss: 0.979773\tvalid_1's multi_logloss: 1.00347\n",
            "[800]\ttraining's multi_logloss: 0.976114\tvalid_1's multi_logloss: 1.00313\n",
            "[900]\ttraining's multi_logloss: 0.972544\tvalid_1's multi_logloss: 1.00284\n",
            "[1000]\ttraining's multi_logloss: 0.968954\tvalid_1's multi_logloss: 1.00278\n",
            "Early stopping, best iteration is:\n",
            "[967]\ttraining's multi_logloss: 0.970199\tvalid_1's multi_logloss: 1.0027\n",
            "0.5043266630611141\n",
            "[[7646 3677 3521]\n",
            " [ 145  177  147]\n",
            " [1832 1676 3367]]\n",
            "Training until validation scores don't improve for 100 rounds.\n",
            "[100]\ttraining's multi_logloss: 1.015\tvalid_1's multi_logloss: 1.02407\n",
            "[200]\ttraining's multi_logloss: 1.00215\tvalid_1's multi_logloss: 1.01646\n",
            "[300]\ttraining's multi_logloss: 0.994867\tvalid_1's multi_logloss: 1.01385\n",
            "[400]\ttraining's multi_logloss: 0.989529\tvalid_1's multi_logloss: 1.01259\n",
            "[500]\ttraining's multi_logloss: 0.985396\tvalid_1's multi_logloss: 1.01211\n",
            "[600]\ttraining's multi_logloss: 0.980959\tvalid_1's multi_logloss: 1.01177\n",
            "[700]\ttraining's multi_logloss: 0.977262\tvalid_1's multi_logloss: 1.01162\n",
            "[800]\ttraining's multi_logloss: 0.97334\tvalid_1's multi_logloss: 1.01133\n",
            "[900]\ttraining's multi_logloss: 0.969674\tvalid_1's multi_logloss: 1.01136\n",
            "Early stopping, best iteration is:\n",
            "[807]\ttraining's multi_logloss: 0.973053\tvalid_1's multi_logloss: 1.01131\n",
            "0.4955831981251127\n",
            "[[7568 3756 3625]\n",
            " [ 154  141  123]\n",
            " [1901 1633 3287]]\n",
            "Training until validation scores don't improve for 100 rounds.\n",
            "[100]\ttraining's multi_logloss: 1.01509\tvalid_1's multi_logloss: 1.02153\n",
            "[200]\ttraining's multi_logloss: 1.00182\tvalid_1's multi_logloss: 1.0136\n",
            "[300]\ttraining's multi_logloss: 0.995166\tvalid_1's multi_logloss: 1.01115\n",
            "[400]\ttraining's multi_logloss: 0.990071\tvalid_1's multi_logloss: 1.01012\n",
            "[500]\ttraining's multi_logloss: 0.985678\tvalid_1's multi_logloss: 1.00946\n",
            "[600]\ttraining's multi_logloss: 0.981402\tvalid_1's multi_logloss: 1.00899\n",
            "[700]\ttraining's multi_logloss: 0.977212\tvalid_1's multi_logloss: 1.00882\n",
            "[800]\ttraining's multi_logloss: 0.973342\tvalid_1's multi_logloss: 1.00875\n",
            "Early stopping, best iteration is:\n",
            "[773]\ttraining's multi_logloss: 0.974459\tvalid_1's multi_logloss: 1.00872\n",
            "0.50238867856499\n",
            "[[7621 3655 3543]\n",
            " [ 163  155  121]\n",
            " [1838 1721 3371]]\n",
            "Training until validation scores don't improve for 100 rounds.\n",
            "[100]\ttraining's multi_logloss: 1.01477\tvalid_1's multi_logloss: 1.02272\n",
            "[200]\ttraining's multi_logloss: 1.00117\tvalid_1's multi_logloss: 1.01517\n",
            "[300]\ttraining's multi_logloss: 0.99475\tvalid_1's multi_logloss: 1.0129\n",
            "[400]\ttraining's multi_logloss: 0.989883\tvalid_1's multi_logloss: 1.01176\n",
            "[500]\ttraining's multi_logloss: 0.985072\tvalid_1's multi_logloss: 1.01101\n",
            "[600]\ttraining's multi_logloss: 0.98069\tvalid_1's multi_logloss: 1.01087\n",
            "[700]\ttraining's multi_logloss: 0.97668\tvalid_1's multi_logloss: 1.01088\n",
            "Early stopping, best iteration is:\n",
            "[644]\ttraining's multi_logloss: 0.978975\tvalid_1's multi_logloss: 1.01083\n",
            "0.49650696353720647\n",
            "[[7589 3641 3634]\n",
            " [ 140  151  125]\n",
            " [1893 1738 3276]]\n",
            "Training until validation scores don't improve for 100 rounds.\n",
            "[100]\ttraining's multi_logloss: 1.01456\tvalid_1's multi_logloss: 1.02384\n",
            "[200]\ttraining's multi_logloss: 1.00133\tvalid_1's multi_logloss: 1.0162\n",
            "[300]\ttraining's multi_logloss: 0.994625\tvalid_1's multi_logloss: 1.01404\n",
            "[400]\ttraining's multi_logloss: 0.989477\tvalid_1's multi_logloss: 1.01291\n",
            "[500]\ttraining's multi_logloss: 0.985423\tvalid_1's multi_logloss: 1.01235\n",
            "[600]\ttraining's multi_logloss: 0.981426\tvalid_1's multi_logloss: 1.01183\n",
            "[700]\ttraining's multi_logloss: 0.977486\tvalid_1's multi_logloss: 1.01168\n",
            "Early stopping, best iteration is:\n",
            "[650]\ttraining's multi_logloss: 0.979388\tvalid_1's multi_logloss: 1.01159\n",
            "0.49601117771668096\n",
            "[[7660 3680 3717]\n",
            " [ 139  158  130]\n",
            " [1824 1692 3187]]\n"
          ]
        },
        {
          "output_type": "display_data",
          "data": {
            "text/plain": [
              "<Figure size 432x288 with 1 Axes>"
            ],
            "image/png": "[encoded data removed]"
          },
          "metadata": {
            "needs_background": "light"
          }
        },
        {
          "output_type": "display_data",
          "data": {
            "text/plain": [
              "<Figure size 432x288 with 1 Axes>"
            ],
            "image/png": "[encoded data removed]"
          },
          "metadata": {
            "needs_background": "light"
          }
        },
        {
          "output_type": "display_data",
          "data": {
            "text/plain": [
              "<Figure size 432x288 with 1 Axes>"
            ],
            "image/png": "[encoded data removed]"
          },
          "metadata": {
            "needs_background": "light"
          }
        },
        {
          "output_type": "display_data",
          "data": {
            "text/plain": [
              "<Figure size 432x288 with 1 Axes>"
            ],
            "image/png": "[encoded data removed]"
          },
          "metadata": {
            "needs_background": "light"
          }
        },
        {
          "output_type": "display_data",
          "data": {
            "text/plain": [
              "<Figure size 432x288 with 1 Axes>"
            ],
            "image/png": "[encoded data removed]"
          },
          "metadata": {
            "needs_background": "light"
          }
        }
      ]
    },
    {
      "cell_type": "code",
      "source": [
        "from mlxtend.evaluate import confusion_matrix\n",
        "predictions = sum(test_preds_1)/5\n",
        "classes = np.argmax(predictions, axis = 1)\n",
        "print(classes)\n",
        "y_true = train_y.squeeze()\n",
        "confmat = confusion_matrix(y_true, classes)\n",
        "\n",
        "print(confmat)"
      ],
      "metadata": {
        "id": "7fSb_61ijz0Z",
        "colab": {
          "base_uri": "https://localhost:8080/"
        },
        "outputId": "952bb73f-3b1c-443b-9381-d04bbd0b773a"
      },
      "execution_count": null,
      "outputs": [
        {
          "output_type": "stream",
          "name": "stdout",
          "text": [
            "[2 0 0 ... 0 0 0]\n",
            "[[39138   421  8554]\n",
            " [18367   991  8293]\n",
            " [17332   424 17418]]\n"
          ]
        }
      ]
    },
    {
      "cell_type": "code",
      "source": [
        "train_acc = np.mean(classes == y_true)*100\n",
        "train_acc"
      ],
      "metadata": {
        "colab": {
          "base_uri": "https://localhost:8080/"
        },
        "id": "qGkYhoL20CnJ",
        "outputId": "48ab3388-f6ca-4756-8ddd-117c7d8c0dc3"
      },
      "execution_count": null,
      "outputs": [
        {
          "output_type": "execute_result",
          "data": {
            "text/plain": [
              "51.87311831833997"
            ]
          },
          "metadata": {},
          "execution_count": 103
        }
      ]
    },
    {
      "cell_type": "code",
      "source": [
        "prediction_1 = sum(test_preds_2)/5\n",
        "prediction_1"
      ],
      "metadata": {
        "id": "VdKJfv7eBWgo",
        "colab": {
          "base_uri": "https://localhost:8080/"
        },
        "outputId": "2a8252be-7a1b-48d8-da54-adbe15d51a3e"
      },
      "execution_count": null,
      "outputs": [
        {
          "output_type": "execute_result",
          "data": {
            "text/plain": [
              "array([[0.44944573, 0.30887058, 0.24168369],\n",
              "       [0.35876696, 0.3254579 , 0.31577514],\n",
              "       [0.38345919, 0.30927321, 0.3072676 ],\n",
              "       ...,\n",
              "       [0.2084595 , 0.27877897, 0.51276153],\n",
              "       [0.60039663, 0.24317981, 0.15642356],\n",
              "       [0.36293106, 0.29408705, 0.34298189]])"
            ]
          },
          "metadata": {},
          "execution_count": 104
        }
      ]
    },
    {
      "cell_type": "code",
      "source": [
        "!pip install --upgrade xgboost"
      ],
      "metadata": {
        "colab": {
          "base_uri": "https://localhost:8080/"
        },
        "id": "kp84cnPExqKk",
        "outputId": "c751808e-1a41-487e-f603-0b2ebe88bac7"
      },
      "execution_count": null,
      "outputs": [
        {
          "output_type": "stream",
          "name": "stdout",
          "text": [
            "Requirement already satisfied: xgboost in /usr/local/lib/python3.7/dist-packages (1.6.0)\n",
            "Requirement already satisfied: scipy in /usr/local/lib/python3.7/dist-packages (from xgboost) (1.4.1)\n",
            "Requirement already satisfied: numpy in /usr/local/lib/python3.7/dist-packages (from xgboost) (1.21.6)\n"
          ]
        }
      ]
    },
    {
      "cell_type": "code",
      "source": [
        "from sklearn.model_selection import KFold, StratifiedKFold\n",
        "import xgboost as xgb\n",
        "test_preds_1 = []\n",
        "test_preds_3 = []\n",
        "\n",
        "kf = StratifiedKFold(n_splits=5, random_state=123, shuffle=True) # KFold\n",
        "i=0\n",
        "for fold, (train_idx, test_idx) in enumerate(kf.split(xtrain_norm, train_y)):\n",
        "    i=i+1\n",
        "    print(i)\n",
        "    X_train, X_test = xtrain_norm[train_idx], xtrain_norm[test_idx]\n",
        "    y_train, y_test = train_y.iloc[train_idx], train_y.iloc[test_idx]\n",
        "    model = xgb.XGBClassifier()\n",
        "    model.fit(X_train, y_train)\n",
        "    y_pred = model.predict(X_test)\n",
        "    valid_acc = np.mean(y_pred == y_test)*100\n",
        "    confmat = confusion_matrix(y_pred, y_test)\n",
        "    print(valid_acc)\n",
        "    print(confmat)\n",
        "    test_preds_1.append(model.predict_proba(xtrain_norm).squeeze())\n",
        "    test_preds_3.append(model.predict_proba(test_norm).squeeze())"
      ],
      "metadata": {
        "colab": {
          "base_uri": "https://localhost:8080/"
        },
        "outputId": "d1ce7d03-c4e8-4e79-fe74-34e8b5bd0992",
        "id": "OnjH39B6WMH_"
      },
      "execution_count": null,
      "outputs": [
        {
          "output_type": "stream",
          "name": "stdout",
          "text": [
            "1\n",
            "49.409590769785474\n",
            "[[7309 3470 3376]\n",
            " [ 450  387  392]\n",
            " [1864 1673 3267]]\n",
            "2\n",
            "49.10311880295655\n",
            "[[7262 3551 3433]\n",
            " [ 389  356  325]\n",
            " [1972 1623 3277]]\n",
            "3\n",
            "49.13466738777718\n",
            "[[7235 3450 3354]\n",
            " [ 458  375  389]\n",
            " [1929 1706 3292]]\n",
            "4\n",
            "48.93856762969306\n",
            "[[7241 3425 3427]\n",
            " [ 466  390  381]\n",
            " [1915 1715 3227]]\n",
            "5\n",
            "48.699689007076216\n",
            "[[7303 3486 3496]\n",
            " [ 459  359  395]\n",
            " [1861 1685 3143]]\n"
          ]
        }
      ]
    },
    {
      "cell_type": "code",
      "source": [
        "from mlxtend.evaluate import confusion_matrix\n",
        "predictions = sum(test_preds_1)/5\n",
        "classes = np.argmax(predictions, axis = 1)\n",
        "print(classes)\n",
        "y_true = train_y.squeeze()\n",
        "confmat = confusion_matrix(y_true, classes)\n",
        "\n",
        "print(confmat)"
      ],
      "metadata": {
        "id": "LRJMsetC_v4q",
        "colab": {
          "base_uri": "https://localhost:8080/"
        },
        "outputId": "5e2c87d9-d0f0-4eeb-c5ba-42e67baf6c59"
      },
      "execution_count": null,
      "outputs": [
        {
          "output_type": "stream",
          "name": "stdout",
          "text": [
            "[2 0 2 ... 1 0 0]\n",
            "[[42421   259  5433]\n",
            " [15366  5814  6471]\n",
            " [12980   365 21829]]\n"
          ]
        }
      ]
    },
    {
      "cell_type": "code",
      "source": [
        "train_acc = np.mean(classes == y_true)*100\n",
        "train_acc"
      ],
      "metadata": {
        "colab": {
          "base_uri": "https://localhost:8080/"
        },
        "outputId": "b5395786-248c-453e-9fc1-86e3cb22badb",
        "id": "V5uFrgiVWMIA"
      },
      "execution_count": null,
      "outputs": [
        {
          "output_type": "execute_result",
          "data": {
            "text/plain": [
              "63.15599704339361"
            ]
          },
          "metadata": {},
          "execution_count": 108
        }
      ]
    },
    {
      "cell_type": "code",
      "source": [
        "prediction_2 = sum(test_preds_3)/5\n",
        "prediction_2"
      ],
      "metadata": {
        "id": "WjFreNo__v4r",
        "colab": {
          "base_uri": "https://localhost:8080/"
        },
        "outputId": "de0e738f-9eab-4ad2-8e80-97ee6b98e1fb"
      },
      "execution_count": null,
      "outputs": [
        {
          "output_type": "execute_result",
          "data": {
            "text/plain": [
              "array([[0.42552224, 0.32397112, 0.25050658],\n",
              "       [0.36555204, 0.31960824, 0.31483975],\n",
              "       [0.3499853 , 0.3561719 , 0.2938428 ],\n",
              "       ...,\n",
              "       [0.13650794, 0.24840207, 0.61509   ],\n",
              "       [0.5540945 , 0.28754282, 0.15836272],\n",
              "       [0.32603976, 0.3033595 , 0.37060076]], dtype=float32)"
            ]
          },
          "metadata": {},
          "execution_count": 109
        }
      ]
    },
    {
      "cell_type": "code",
      "source": [
        "w_lgbm = .7\n",
        "w_xgb = .3\n",
        "prediction_lgbm = pd.DataFrame(prediction_1,columns=['home', 'draw', 'away'])\n",
        "prediction_xgb = pd.DataFrame(prediction_2,columns=['home', 'draw', 'away'])\n",
        "prediction_final = pd.DataFrame(columns=['home', 'draw', 'away'])\n",
        "prediction_final['home'] = prediction_lgbm['home']*w_lgbm+prediction_xgb['home']*w_xgb\n",
        "prediction_final['draw'] = prediction_lgbm['draw']*w_lgbm+prediction_xgb['draw']*w_xgb\n",
        "prediction_final['away'] = prediction_lgbm['away']*w_lgbm+prediction_xgb['away']*w_xgb"
      ],
      "metadata": {
        "id": "TZkIJjH1WOZn"
      },
      "execution_count": null,
      "outputs": []
    },
    {
      "cell_type": "code",
      "source": [
        "submission = pd.concat([pd.DataFrame(testn['id']), pd.DataFrame(prediction_final, columns=['home', 'draw', 'away'])[['home', 'draw', 'away']]], axis=1)\n",
        "submission.to_csv('/content/drive/MyDrive/7313Project/submission_ensemble.csv', index=False)"
      ],
      "metadata": {
        "id": "kSeeT5PuBpQv"
      },
      "execution_count": null,
      "outputs": []
    }
  ]
}