{
 "cells": [
  {
   "cell_type": "code",
   "execution_count": 1,
   "metadata": {},
   "outputs": [],
   "source": [
    "import numpy as np\n",
    "import pandas as pd\n",
    "import datetime as dt\n",
    "\n",
    "from sklearn.preprocessing import RobustScaler\n",
    "import statistics\n",
    "import math\n",
    "\n",
    "from warnings import simplefilter\n",
    "simplefilter(action=\"ignore\", category=pd.errors.PerformanceWarning)"
   ]
  },
  {
   "cell_type": "code",
   "execution_count": 2,
   "metadata": {},
   "outputs": [],
   "source": [
    "def replace_with_median(df,col_name):\n",
    "    for col_ind in range(0,df.shape[0]):\n",
    "        prev_values = []\n",
    "        for i in range(1,11):\n",
    "            if str(df.iloc[col_ind][col_name+str(i)])=='nan':\n",
    "                if prev_values:\n",
    "                    df.iat[col_ind,df.columns.values.tolist().index(col_name+str(i))] = math.ceil(statistics.median(prev_values))\n",
    "                else:\n",
    "                    df.iat[col_ind,df.columns.values.tolist().index(col_name+str(i))] = 0\n",
    "            else:\n",
    "                prev_values.append(df.iloc[col_ind][col_name+str(i)])\n",
    "    return df"
   ]
  },
  {
   "cell_type": "code",
   "execution_count": 3,
   "metadata": {},
   "outputs": [],
   "source": [
    "def replace_with_median_fast(df,path):\n",
    "    i=1\n",
    "    nan_index = df.loc[pd.isna(df[f'{path}{i}']), :].index\n",
    "    for nan_i in nan_index: df.at[nan_i,f'{path}{i}'] = 0 \n",
    "    for i in range(2,11):\n",
    "        nan_index = df.loc[pd.isna(df[f'{path}{i}']), :].index\n",
    "        for nan_i in nan_index: df.at[nan_i,f'{path}{i}'] = math.ceil(statistics.median(df.loc[nan_i,[f'{path}{j}' for j in range(1,i)]]))\n",
    "    return df"
   ]
  },
  {
   "cell_type": "code",
   "execution_count": 4,
   "metadata": {},
   "outputs": [],
   "source": [
    "def replace_with_mean(df,col_name):\n",
    "    for col_ind in range(0,df.shape[0]):\n",
    "        prev_values = []\n",
    "        for i in range(1,11):\n",
    "            if str(df.iloc[col_ind][col_name+str(i)])=='nan':\n",
    "                if prev_values:\n",
    "                    df.iat[col_ind,df.columns.values.tolist().index(col_name+str(i))] = statistics.mean(prev_values)\n",
    "                else:\n",
    "                    df.iat[col_ind,df.columns.values.tolist().index(col_name+str(i))] = 0\n",
    "            else:\n",
    "                prev_values.append(df.iloc[col_ind][col_name+str(i)])\n",
    "    return df"
   ]
  },
  {
   "cell_type": "code",
   "execution_count": 5,
   "metadata": {},
   "outputs": [],
   "source": [
    "def replace_with_mean_fast(df,path):\n",
    "    i=1\n",
    "    nan_index = df.loc[pd.isna(df[f'{path}{i}']), :].index\n",
    "    for nan_i in nan_index: df.at[nan_i,f'{path}{i}'] = 0 \n",
    "    for i in range(2,11):\n",
    "        nan_index = df.loc[pd.isna(df[f'{path}{i}']), :].index\n",
    "        for nan_i in nan_index: df.at[nan_i,f'{path}{i}'] = statistics.mean(df.loc[nan_i,[f'{path}{j}' for j in range(1,i)]])\n",
    "    return df"
   ]
  },
  {
   "cell_type": "code",
   "execution_count": 6,
   "metadata": {},
   "outputs": [],
   "source": [
    "def replace_with_last_coach(df,col_name,isHome):\n",
    "    for col_ind in range(0,df.shape[0]):\n",
    "        prev_values = 0\n",
    "        for i in range(1,11):\n",
    "            if str(df.iloc[col_ind][col_name+str(i)])=='nan':\n",
    "                if prev_values:\n",
    "                    df.iat[col_ind,df.columns.values.tolist().index(col_name+str(i))] = prev_values\n",
    "                else:\n",
    "                    if isHome:\n",
    "                        df.iat[col_ind,df.columns.values.tolist().index(col_name+str(i))] = df.iloc[col_ind]['home_team_coach_id']\n",
    "                    else:\n",
    "                        df.iat[col_ind,df.columns.values.tolist().index(col_name+str(i))] = df.iloc[col_ind]['away_team_coach_id']\n",
    "            else:\n",
    "                prev_values = df.iloc[col_ind][col_name+str(i)]\n",
    "    return df"
   ]
  },
  {
   "cell_type": "code",
   "execution_count": 7,
   "metadata": {},
   "outputs": [],
   "source": [
    "def replace_with_last_manager_fast(df,path,isHome):\n",
    "    i=1\n",
    "    nan_index = df.loc[pd.isna(df[f'{path}{i}']), :].index\n",
    "    for nan_i in nan_index: \n",
    "        if isHome: df.at[nan_i,f'{path}{i}'] = df.at[nan_i,'home_team_coach_id'] \n",
    "        else: df.at[nan_i,f'{path}{i}'] = df.at[nan_i,'away_team_coach_id'] \n",
    "    for i in range(2,11):\n",
    "        nan_index = df.loc[pd.isna(df[f'{path}{i}']), :].index\n",
    "        for nan_i in nan_index: df.at[nan_i,f'{path}{i}'] = df.at[nan_i,f'{path}{i-1}']\n",
    "    return df"
   ]
  },
  {
   "cell_type": "code",
   "execution_count": 8,
   "metadata": {},
   "outputs": [],
   "source": [
    "def replace_with_last(df,col_name):\n",
    "    for col_ind in range(0,df.shape[0]):\n",
    "        prev_values = 0\n",
    "        for i in range(1,11):\n",
    "            if str(df.iloc[col_ind][col_name+str(i)])=='nan':\n",
    "                if prev_values:\n",
    "                    df.iat[col_ind,df.columns.values.tolist().index(col_name+str(i))] = prev_values\n",
    "                else:\n",
    "                    df.iat[col_ind,df.columns.values.tolist().index(col_name+str(i))] = df.iloc[col_ind]['league_id']\n",
    "            else:\n",
    "                prev_values = df.iloc[col_ind][col_name+str(i)]\n",
    "    return df"
   ]
  },
  {
   "cell_type": "code",
   "execution_count": 9,
   "metadata": {},
   "outputs": [],
   "source": [
    "def replace_with_last_fast(df,path):\n",
    "    i=1\n",
    "    nan_index = df.loc[pd.isna(df[f'{path}{i}']), :].index\n",
    "    for nan_i in nan_index: df.at[nan_i,f'{path}{i}'] = df.at[nan_i,'league_id'] \n",
    "    for i in range(2,11):\n",
    "        nan_index = df.loc[pd.isna(df[f'{path}{i}']), :].index\n",
    "        for nan_i in nan_index: df.at[nan_i,f'{path}{i}'] = df.at[nan_i,f'{path}{i-1}']\n",
    "    return df"
   ]
  },
  {
   "cell_type": "code",
   "execution_count": 10,
   "metadata": {},
   "outputs": [],
   "source": [
    "\n",
    "def add_features(df):\n",
    "    for i in range(1, 11):\n",
    "        df[f'home_team_history_match_DIFF_day_{i}'] = (df['match_date'] - df[f'home_team_history_match_date_{i}']).dt.days\n",
    "        df[f'away_team_history_match_DIFF_day_{i}'] = (df['match_date'] - df[f'away_team_history_match_date_{i}']).dt.days\n",
    "    \n",
    "        df[f'home_team_history_DIFF_goal_{i}'] = df[f'home_team_history_goal_{i}'] - df[f'home_team_history_opponent_goal_{i}']\n",
    "        df[f'away_team_history_DIFF_goal_{i}'] = df[f'away_team_history_goal_{i}'] - df[f'away_team_history_opponent_goal_{i}']\n",
    "    \n",
    "        df[f'home_team_result_{i}'] = np.where(df[f'home_team_history_DIFF_goal_{i}'] > 0, 2,\n",
    "                         (np.where(df[f'home_team_history_DIFF_goal_{i}'] == 0, 1,\n",
    "                                   np.where(df[f'home_team_history_DIFF_goal_{i}'].isna(), np.nan, 0))))\n",
    "        df[f'away_team_result_{i}'] = np.where(df[f'away_team_history_DIFF_goal_{i}'] > 0, 2,\n",
    "                         (np.where(df[f'away_team_history_DIFF_goal_{i}'] == 0, 1,\n",
    "                                   np.where(df[f'away_team_history_DIFF_goal_{i}'].isna(), np.nan, 0))))\n",
    "    \n",
    "        # df[f'home_team_history_ELO_rating_{i}'] = 1/(1+10**((df[f'home_team_history_opponent_rating_{i}']-df[f'home_team_history_rating_{i}'])/10))\n",
    "        # df[f'away_team_history_ELO_rating_{i}'] = 1/(1+10**((df[f'away_team_history_opponent_rating_{i}']-df[f'away_team_history_rating_{i}'])/10))\n",
    "        # df[f'home_away_team_history_ELO_rating_{i}'] = 1/(1+10**((df[f'away_team_history_rating_{i}']-df[f'home_team_history_rating_{i}'])/10))\n",
    "\n",
    "        df[f'home_team_history_diff_rating_{i}'] = df[f'home_team_history_rating_{i}'] - df[f'home_team_history_opponent_rating_{i}']\n",
    "        df[f'away_team_history_diff_rating_{i}'] = df[f'away_team_history_rating_{i}'] - df[f'away_team_history_opponent_rating_{i}']\n",
    "        df[f'home_away_team_history_diff_rating_{i}'] = df[f'home_team_history_rating_{i}'] - df[f'away_team_history_rating_{i}']\n",
    "    \n",
    "        df[f'home_team_history_SAME_coaX_{i}'] = np.where(df['home_team_coach_id']==df[f'home_team_history_coach_{i}'],1,0)\n",
    "        df[f'away_team_history_SAME_coaX_{i}'] = np.where(df['away_team_coach_id']==df[f'away_team_history_coach_{i}'],1,0) \n",
    "    \n",
    "        df[f'home_team_history_SAME_leaG_{i}'] = np.where(df['league_id']==df[f'home_team_history_league_id_{i}'],1,0)\n",
    "        df[f'away_team_history_SAME_leaG_{i}'] = np.where(df['league_id']==df[f'away_team_history_league_id_{i}'],1,0) \n",
    "    \n",
    "    return df"
   ]
  },
  {
   "cell_type": "code",
   "execution_count": 11,
   "metadata": {},
   "outputs": [
    {
     "name": "stderr",
     "output_type": "stream",
     "text": [
      "C:\\Users\\tz220\\AppData\\Local\\Packages\\PythonSoftwareFoundation.Python.3.9_qbz5n2kfra8p0\\LocalCache\\local-packages\\Python39\\site-packages\\IPython\\core\\interactiveshell.py:3444: DtypeWarning: Columns (7) have mixed types.Specify dtype option on import or set low_memory=False.\n",
      "  exec(code_obj, self.user_global_ns, self.user_ns)\n"
     ]
    }
   ],
   "source": [
    "train = pd.read_csv('train.csv')\n",
    "test = pd.read_csv('test.csv')"
   ]
  },
  {
   "cell_type": "code",
   "execution_count": 12,
   "metadata": {},
   "outputs": [],
   "source": [
    "DEBUG = False\n",
    "\n",
    "if DEBUG:\n",
    "    train = train[:100]\n",
    "    test = test[:100]"
   ]
  },
  {
   "cell_type": "code",
   "execution_count": 50,
   "metadata": {},
   "outputs": [
    {
     "name": "stdout",
     "output_type": "stream",
     "text": [
      "id                                0.000000\n",
      "target                            0.000000\n",
      "home_team_name                    0.000009\n",
      "away_team_name                    0.000009\n",
      "match_date                        0.000000\n",
      "                                    ...   \n",
      "away_team_history_league_id_6     0.075952\n",
      "away_team_history_league_id_7     0.088942\n",
      "away_team_history_league_id_8     0.101814\n",
      "away_team_history_league_id_9     0.115037\n",
      "away_team_history_league_id_10    0.128144\n",
      "Length: 190, dtype: float64\n"
     ]
    }
   ],
   "source": [
    "# print(f\"Train: {train.shape}\")\n",
    "# train.head()\n",
    "# ls = train.isna().sum() / train.shape[0]\n",
    "# print(ls)\n",
    "# ls.to_csv('nulls.csv')"
   ]
  },
  {
   "cell_type": "code",
   "execution_count": 14,
   "metadata": {},
   "outputs": [],
   "source": [
    "for col in train.filter(regex='date', axis=1).columns:\n",
    "    train[col] = pd.to_datetime(train[col])\n",
    "    test[col] = pd.to_datetime(test[col])"
   ]
  },
  {
   "cell_type": "code",
   "execution_count": 15,
   "metadata": {},
   "outputs": [],
   "source": [
    "train_y = train['target'].copy()\n",
    "train_x = train.drop(['target', 'home_team_name', 'away_team_name'], axis=1)\n",
    "\n",
    "test_x = test.drop(['home_team_name', 'away_team_name'], axis=1)"
   ]
  },
  {
   "cell_type": "code",
   "execution_count": 16,
   "metadata": {},
   "outputs": [],
   "source": [
    "mapping_dict = {1: 'H', 0: 'A'}"
   ]
  },
  {
   "cell_type": "code",
   "execution_count": 17,
   "metadata": {},
   "outputs": [],
   "source": [
    "for i in range(1, 11):\n",
    "    train_x[f'home_team_history_is_play_home_{i}'] = train_x[f'home_team_history_is_play_home_{i}'].map(mapping_dict)\n",
    "    train_x[f'away_team_history_is_play_home_{i}'] = train_x[f'away_team_history_is_play_home_{i}'].map(mapping_dict)\n",
    "    \n",
    "    test_x[f'home_team_history_is_play_home_{i}'] = test_x[f'home_team_history_is_play_home_{i}'].map(mapping_dict)\n",
    "    test_x[f'away_team_history_is_play_home_{i}'] = test_x[f'away_team_history_is_play_home_{i}'].map(mapping_dict)"
   ]
  },
  {
   "cell_type": "code",
   "execution_count": 18,
   "metadata": {},
   "outputs": [],
   "source": [
    "cols = [f'home_team_history_is_play_home_{i}' for i in range(1, 11)]\n",
    "train_x = pd.get_dummies(train_x, columns=cols)\n",
    "cols = [f'away_team_history_is_play_home_{i}' for i in range(1, 11)]\n",
    "train_x = pd.get_dummies(train_x, columns=cols)\n",
    "\n",
    "cols = [f'home_team_history_is_play_home_{i}' for i in range(1, 11)]\n",
    "test_x = pd.get_dummies(test_x, columns=cols)\n",
    "cols = [f'away_team_history_is_play_home_{i}' for i in range(1, 11)]\n",
    "test_x = pd.get_dummies(test_x, columns=cols)"
   ]
  },
  {
   "cell_type": "code",
   "execution_count": 19,
   "metadata": {},
   "outputs": [],
   "source": [
    "for i in range(1, 11):\n",
    "    train_x[f'home_team_history_is_cup_{i}'].fillna(0,inplace=True)\n",
    "    train_x[f'away_team_history_is_cup_{i}'].fillna(0,inplace=True)\n",
    "\n",
    "    test_x[f'home_team_history_is_cup_{i}'].fillna(0,inplace=True)\n",
    "    test_x[f'away_team_history_is_cup_{i}'].fillna(0,inplace=True)"
   ]
  },
  {
   "cell_type": "code",
   "execution_count": 20,
   "metadata": {},
   "outputs": [],
   "source": [
    "paths = ['home_team_history_goal_','home_team_history_opponent_goal_','away_team_history_goal_','away_team_history_opponent_goal_']\n",
    "for path in paths:\n",
    "    train_x = replace_with_median_fast(train_x,path=path)\n",
    "    test_x = replace_with_median_fast(test_x,path=path)"
   ]
  },
  {
   "cell_type": "code",
   "execution_count": 21,
   "metadata": {},
   "outputs": [],
   "source": [
    "# train_x = replace_with_median(train_x,'home_team_history_goal_')\n",
    "# test_x = replace_with_median(test_x,'home_team_history_opponent_goal_')\n",
    "# test_x = replace_with_median(test_x,'away_team_history_goal_')\n",
    "# test_x = replace_with_median(test_x,'away_team_history_opponent_goal_')\n",
    "\n",
    "# test_x = replace_with_median(test_x,'home_team_history_goal_')\n",
    "# test_x = replace_with_median(test_x,'home_team_history_opponent_goal_')\n",
    "# test_x = replace_with_median(test_x,'away_team_history_goal_')\n",
    "# test_x = replace_with_median(test_x,'away_team_history_opponent_goal_')"
   ]
  },
  {
   "cell_type": "code",
   "execution_count": 22,
   "metadata": {},
   "outputs": [],
   "source": [
    "paths = ['home_team_history_rating_','home_team_history_opponent_rating_','away_team_history_rating_','away_team_history_opponent_rating_']\n",
    "for path in paths:\n",
    "    train_x = replace_with_mean_fast(train_x,path=path)\n",
    "    test_x = replace_with_mean_fast(test_x,path=path)"
   ]
  },
  {
   "cell_type": "code",
   "execution_count": 23,
   "metadata": {},
   "outputs": [],
   "source": [
    "# train_x = replace_with_mean(train_x,'home_team_history_rating_')\n",
    "# train_x = replace_with_mean(train_x,'home_team_history_opponent_rating_')\n",
    "# train_x = replace_with_mean(train_x,'away_team_history_rating_')\n",
    "# train_x = replace_with_mean(train_x,'away_team_history_opponent_rating_')\n",
    "\n",
    "# test_x = replace_with_mean(test_x,'home_team_history_rating_')\n",
    "# test_x = replace_with_mean(test_x,'home_team_history_opponent_rating_')\n",
    "# test_x = replace_with_mean(test_x,'away_team_history_rating_')\n",
    "# test_x = replace_with_mean(test_x,'away_team_history_opponent_rating_')"
   ]
  },
  {
   "cell_type": "code",
   "execution_count": 24,
   "metadata": {},
   "outputs": [],
   "source": [
    "paths = ['home_team_history_coach_','away_team_history_coach_']\n",
    "train_x = replace_with_last_manager_fast(train_x,path=paths[0],isHome=True)\n",
    "train_x = replace_with_last_manager_fast(train_x,path=paths[1],isHome=False)\n",
    "\n",
    "test_x = replace_with_last_manager_fast(test_x,path=paths[0],isHome=True)\n",
    "test_x = replace_with_last_manager_fast(test_x,path=paths[1],isHome=False)"
   ]
  },
  {
   "cell_type": "code",
   "execution_count": 25,
   "metadata": {},
   "outputs": [],
   "source": [
    "# train_x = replace_with_last_coach(train_x,'home_team_history_coach_',True)\n",
    "# train_x = replace_with_last_coach(train_x,'away_team_history_coach_',False)\n",
    "\n",
    "# test_x = replace_with_last_coach(test_x,'home_team_history_coach_',True)\n",
    "# test_x = replace_with_last_coach(test_x,'away_team_history_coach_',False)"
   ]
  },
  {
   "cell_type": "code",
   "execution_count": 26,
   "metadata": {},
   "outputs": [],
   "source": [
    "# train_x = replace_with_last(train_x,'home_team_history_league_id_')\n",
    "# train_x = replace_with_last(train_x,'away_team_history_league_id_')\n",
    "\n",
    "# test_x = replace_with_last(test_x,'home_team_history_league_id_')\n",
    "# test_x = replace_with_last(test_x,'away_team_history_league_id_')"
   ]
  },
  {
   "cell_type": "code",
   "execution_count": 27,
   "metadata": {},
   "outputs": [],
   "source": [
    "train_x = add_features(train_x)\n",
    "test_x = add_features(test_x)"
   ]
  },
  {
   "cell_type": "code",
   "execution_count": 28,
   "metadata": {},
   "outputs": [],
   "source": [
    "train_x.drop(train.filter(regex='date').columns, axis=1, inplace = True)\n",
    "train_x.drop(train.filter(regex='league').columns, axis=1, inplace = True)\n",
    "train_x.drop(train.filter(regex='coach').columns, axis=1, inplace = True)\n",
    "\n",
    "test_x.drop(test.filter(regex='date').columns, axis=1, inplace = True)\n",
    "test_x.drop(test.filter(regex='league').columns, axis=1, inplace = True)\n",
    "test_x.drop(test.filter(regex='coach').columns, axis=1, inplace = True)"
   ]
  },
  {
   "cell_type": "code",
   "execution_count": 29,
   "metadata": {},
   "outputs": [],
   "source": [
    "train_x['home_total_goals_scored'] = train_x.loc[:,[f'home_team_history_goal_{i}' for i in range(1,11)]].sum(axis=1)\n",
    "train_x['home_total_goals_consumed'] = train_x.loc[:,[f'home_team_history_opponent_goal_{i}' for i in range(1,11)]].sum(axis=1)\n",
    "\n",
    "train_x['away_total_goals_scored'] = train_x.loc[:,[f'away_team_history_goal_{i}' for i in range(1,11)]].sum(axis=1)\n",
    "train_x['away_total_goals_consumed'] = train_x.loc[:,[f'away_team_history_opponent_goal_{i}' for i in range(1,11)]].sum(axis=1)"
   ]
  },
  {
   "cell_type": "code",
   "execution_count": 30,
   "metadata": {},
   "outputs": [],
   "source": [
    "test_x['home_total_goals_scored'] = test_x.loc[:,[f'home_team_history_goal_{i}' for i in range(1,11)]].sum(axis=1)\n",
    "test_x['home_total_goals_consumed'] = test_x.loc[:,[f'home_team_history_opponent_goal_{i}' for i in range(1,11)]].sum(axis=1)\n",
    "\n",
    "test_x['away_total_goals_scored'] = test_x.loc[:,[f'away_team_history_goal_{i}' for i in range(1,11)]].sum(axis=1)\n",
    "test_x['away_total_goals_consumed'] = test_x.loc[:,[f'away_team_history_opponent_goal_{i}' for i in range(1,11)]].sum(axis=1)"
   ]
  },
  {
   "cell_type": "code",
   "execution_count": 31,
   "metadata": {},
   "outputs": [],
   "source": [
    "train_x['home_team_goals_scored_in_home'] = np.nan\n",
    "train_x['home_team_goals_scored_in_away'] = np.nan\n",
    "train_x['home_team_goals_consumed_in_home'] = np.nan\n",
    "train_x['home_team_goals_consumed_in_away'] = np.nan\n",
    "for index in train_x.index:\n",
    "    train_x.at[index, 'home_team_goals_scored_in_home'] = train_x.loc[index:index,[f'home_team_history_goal_{x}' for x in [i for i in range(1,11) if train_x.at[index,f'home_team_history_is_play_home_{i}_H']==1]]].sum(axis=1)\n",
    "    train_x.at[index, 'home_team_goals_scored_in_away'] = train_x.loc[index:index,[f'home_team_history_goal_{x}' for x in [i for i in range(1,11) if train_x.at[index,f'home_team_history_is_play_home_{i}_A']==1]]].sum(axis=1)\n",
    "    train_x.at[index, 'home_team_goals_consumed_in_home'] = train_x.loc[index:index,[f'home_team_history_opponent_goal_{x}' for x in [i for i in range(1,11) if train_x.at[index,f'home_team_history_is_play_home_{i}_H']==1]]].sum(axis=1)\n",
    "    train_x.at[index, 'home_team_goals_consumed_in_away'] = train_x.loc[index:index,[f'home_team_history_opponent_goal_{x}' for x in [i for i in range(1,11) if train_x.at[index,f'home_team_history_is_play_home_{i}_A']==1]]].sum(axis=1)\n",
    "\n",
    "train_x['away_team_goals_scored_in_home'] = np.nan\n",
    "train_x['away_team_goals_scored_in_away'] = np.nan\n",
    "train_x['away_team_goals_consumed_in_home'] = np.nan\n",
    "train_x['away_team_goals_consumed_in_away'] = np.nan\n",
    "for index in train_x.index:\n",
    "    train_x.at[index, 'away_team_goals_scored_in_home'] = train_x.loc[index:index,[f'away_team_history_goal_{x}' for x in [i for i in range(1,11) if train_x.at[index,f'away_team_history_is_play_home_{i}_H']==1]]].sum(axis=1)\n",
    "    train_x.at[index, 'away_team_goals_scored_in_away'] = train_x.loc[index:index,[f'away_team_history_goal_{x}' for x in [i for i in range(1,11) if train_x.at[index,f'away_team_history_is_play_home_{i}_A']==1]]].sum(axis=1)\n",
    "    train_x.at[index, 'away_team_goals_consumed_in_home'] = train_x.loc[index:index,[f'away_team_history_opponent_goal_{x}' for x in [i for i in range(1,11) if train_x.at[index,f'away_team_history_is_play_home_{i}_H']==1]]].sum(axis=1)\n",
    "    train_x.at[index, 'away_team_goals_consumed_in_away'] = train_x.loc[index:index,[f'away_team_history_opponent_goal_{x}' for x in [i for i in range(1,11) if train_x.at[index,f'away_team_history_is_play_home_{i}_A']==1]]].sum(axis=1)\n",
    "\n",
    "test_x['home_team_goals_scored_in_home'] = np.nan\n",
    "test_x['home_team_goals_scored_in_away'] = np.nan\n",
    "test_x['home_team_goals_consumed_in_home'] = np.nan\n",
    "test_x['home_team_goals_consumed_in_away'] = np.nan\n",
    "for index in test.index:\n",
    "    test_x.at[index, 'home_team_goals_scored_in_home'] = test_x.loc[index:index,[f'home_team_history_goal_{x}' for x in [i for i in range(1,11) if test_x.at[index,f'home_team_history_is_play_home_{i}_H']==1]]].sum(axis=1)\n",
    "    test_x.at[index, 'home_team_goals_scored_in_away'] = test_x.loc[index:index,[f'home_team_history_goal_{x}' for x in [i for i in range(1,11) if test_x.at[index,f'home_team_history_is_play_home_{i}_A']==1]]].sum(axis=1)\n",
    "    test_x.at[index, 'home_team_goals_consumed_in_home'] = test_x.loc[index:index,[f'home_team_history_opponent_goal_{x}' for x in [i for i in range(1,11) if test_x.at[index,f'home_team_history_is_play_home_{i}_H']==1]]].sum(axis=1)\n",
    "    test_x.at[index, 'home_team_goals_consumed_in_away'] = test_x.loc[index:index,[f'home_team_history_opponent_goal_{x}' for x in [i for i in range(1,11) if test_x.at[index,f'home_team_history_is_play_home_{i}_A']==1]]].sum(axis=1)\n",
    "\n",
    "test_x['away_team_goals_scored_in_home'] = np.nan\n",
    "test_x['away_team_goals_scored_in_away'] = np.nan\n",
    "test_x['away_team_goals_consumed_in_home'] = np.nan\n",
    "test_x['away_team_goals_consumed_in_away'] = np.nan\n",
    "for index in test_x.index:\n",
    "    test_x.at[index, 'away_team_goals_scored_in_home'] = test_x.loc[index:index,[f'away_team_history_goal_{x}' for x in [i for i in range(1,11) if test_x.at[index,f'away_team_history_is_play_home_{i}_H']==1]]].sum(axis=1)\n",
    "    test_x.at[index, 'away_team_goals_scored_in_away'] = test_x.loc[index:index,[f'away_team_history_goal_{x}' for x in [i for i in range(1,11) if test_x.at[index,f'away_team_history_is_play_home_{i}_A']==1]]].sum(axis=1)\n",
    "    test_x.at[index, 'away_team_goals_consumed_in_home'] = test_x.loc[index:index,[f'away_team_history_opponent_goal_{x}' for x in [i for i in range(1,11) if test_x.at[index,f'away_team_history_is_play_home_{i}_H']==1]]].sum(axis=1)\n",
    "    test_x.at[index, 'away_team_goals_consumed_in_away'] = test_x.loc[index:index,[f'away_team_history_opponent_goal_{x}' for x in [i for i in range(1,11) if test_x.at[index,f'away_team_history_is_play_home_{i}_A']==1]]].sum(axis=1)"
   ]
  },
  {
   "cell_type": "code",
   "execution_count": 32,
   "metadata": {},
   "outputs": [],
   "source": [
    "train_x['home_current_manager_matches'] = train_x.loc[:,[f'home_team_history_SAME_coaX_{i}' for i in range(1,11)]].sum(axis=1)\n",
    "train_x['away_current_manager_matches'] = train_x.loc[:,[f'away_team_history_SAME_coaX_{i}' for i in range(1,11)]].sum(axis=1)"
   ]
  },
  {
   "cell_type": "code",
   "execution_count": 33,
   "metadata": {},
   "outputs": [],
   "source": [
    "test_x['home_current_manager_matches'] = test_x.loc[:,[f'home_team_history_SAME_coaX_{i}' for i in range(1,11)]].sum(axis=1)\n",
    "test_x['away_current_manager_matches'] = test_x.loc[:,[f'away_team_history_SAME_coaX_{i}' for i in range(1,11)]].sum(axis=1)"
   ]
  },
  {
   "cell_type": "code",
   "execution_count": 34,
   "metadata": {},
   "outputs": [],
   "source": [
    "train_x['home_average_rating_in_home'] = np.nan\n",
    "train_x['home_average_rating_in_away'] = np.nan\n",
    "for index in train_x.index:\n",
    "    train_x.at[index, 'home_average_rating_in_home'] = train_x.loc[index:index,[f'home_team_history_rating_{x}' for x in [i for i in range(1,11) if train_x.at[index,f'home_team_history_is_play_home_{i}_H']==1]]].mean(axis=1)\n",
    "    train_x.at[index, 'home_average_rating_in_away'] = train_x.loc[index:index,[f'home_team_history_rating_{x}' for x in [i for i in range(1,11) if train_x.at[index,f'home_team_history_is_play_home_{i}_A']==1]]].mean(axis=1)\n",
    "\n",
    "train_x['away_average_rating_in_home'] = np.nan\n",
    "train_x['away_average_rating_in_away'] = np.nan\n",
    "for index in train_x.index:\n",
    "    train_x.at[index, 'away_average_rating_in_home'] = train_x.loc[index:index,[f'away_team_history_rating_{x}' for x in [i for i in range(1,11) if train_x.at[index,f'away_team_history_is_play_home_{i}_H']==1]]].mean(axis=1)\n",
    "    train_x.at[index, 'away_average_rating_in_away'] = train_x.loc[index:index,[f'away_team_history_rating_{x}' for x in [i for i in range(1,11) if train_x.at[index,f'away_team_history_is_play_home_{i}_A']==1]]].mean(axis=1)"
   ]
  },
  {
   "cell_type": "code",
   "execution_count": 35,
   "metadata": {},
   "outputs": [],
   "source": [
    "test_x['home_average_rating_in_home'] = np.nan\n",
    "test_x['home_average_rating_in_away'] = np.nan\n",
    "for index in test_x.index:\n",
    "    test_x.at[index, 'home_average_rating_in_home'] = test_x.loc[index:index,[f'home_team_history_rating_{x}' for x in [i for i in range(1,11) if test_x.at[index,f'home_team_history_is_play_home_{i}_H']==1]]].mean(axis=1)\n",
    "    test_x.at[index, 'home_average_rating_in_away'] = test_x.loc[index:index,[f'home_team_history_rating_{x}' for x in [i for i in range(1,11) if test_x.at[index,f'home_team_history_is_play_home_{i}_A']==1]]].mean(axis=1)\n",
    "\n",
    "test_x['away_average_rating_in_home'] = np.nan\n",
    "test_x['away_average_rating_in_away'] = np.nan\n",
    "for index in test_x.index:\n",
    "    test_x.at[index, 'away_average_rating_in_home'] = test_x.loc[index:index,[f'away_team_history_rating_{x}' for x in [i for i in range(1,11) if test_x.at[index,f'away_team_history_is_play_home_{i}_H']==1]]].mean(axis=1)\n",
    "    test_x.at[index, 'away_average_rating_in_away'] = test_x.loc[index:index,[f'away_team_history_rating_{x}' for x in [i for i in range(1,11) if test_x.at[index,f'away_team_history_is_play_home_{i}_A']==1]]].mean(axis=1)"
   ]
  },
  {
   "cell_type": "code",
   "execution_count": 36,
   "metadata": {},
   "outputs": [],
   "source": [
    "# li = len([x for x in [i for i in range(1,11) if train_x.at[0,f'home_team_history_is_play_home_{i}_A']==1] if train_x.at[0,f'home_team_result_{x}']==2])\n",
    "# print(li)\n",
    "train_x['home_wins_in_home'] = np.nan\n",
    "train_x['home_wins_in_away'] = np.nan\n",
    "train_x['home_draws_in_home'] = np.nan\n",
    "train_x['home_draws_in_away'] = np.nan\n",
    "train_x['home_losses_in_home'] = np.nan\n",
    "train_x['home_losses_in_away'] = np.nan\n",
    "train_x['home_recorded_matches'] = np.nan\n",
    "train_x['home_unrecorded_matches'] = np.nan\n",
    "for index in train_x.index:\n",
    "    train_x.at[index, 'home_wins_in_home'] = len([x for x in [i for i in range(1,11) if train_x.at[index,f'home_team_history_is_play_home_{i}_H']==1] if train_x.at[index,f'home_team_result_{x}']==2])\n",
    "    train_x.at[index, 'home_wins_in_away'] = len([x for x in [i for i in range(1,11) if train_x.at[index,f'home_team_history_is_play_home_{i}_A']==1] if train_x.at[index,f'home_team_result_{x}']==2])\n",
    "    \n",
    "    train_x.at[index, 'home_draws_in_home'] = len([x for x in [i for i in range(1,11) if train_x.at[index,f'home_team_history_is_play_home_{i}_H']==1] if train_x.at[index,f'home_team_result_{x}']==1])\n",
    "    train_x.at[index, 'home_draws_in_away'] = len([x for x in [i for i in range(1,11) if train_x.at[index,f'home_team_history_is_play_home_{i}_A']==1] if train_x.at[index,f'home_team_result_{x}']==1])\n",
    "    \n",
    "    train_x.at[index, 'home_losses_in_home'] = len([x for x in [i for i in range(1,11) if train_x.at[index,f'home_team_history_is_play_home_{i}_H']==1] if train_x.at[index,f'home_team_result_{x}']==0])\n",
    "    train_x.at[index, 'home_losses_in_away'] = len([x for x in [i for i in range(1,11) if train_x.at[index,f'home_team_history_is_play_home_{i}_A']==1] if train_x.at[index,f'home_team_result_{x}']==0])\n",
    "\n",
    "    train_x.at[index, 'home_recorded_matches'] = len([i for i in range(1,11) if train_x.at[index,f'home_team_history_is_play_home_{i}_H']==1 or train_x.at[index,f'home_team_history_is_play_home_{i}_A']==1])\n",
    "    train_x.at[index, 'home_unrecorded_matches'] = len([i for i in range(1,11) if train_x.at[index,f'home_team_history_is_play_home_{i}_H']==0 and train_x.at[index,f'home_team_history_is_play_home_{i}_A']==0])\n",
    "\n",
    "\n",
    "train_x['away_wins_in_home'] = np.nan\n",
    "train_x['away_wins_in_away'] = np.nan\n",
    "train_x['away_draws_in_home'] = np.nan\n",
    "train_x['away_draws_in_away'] = np.nan\n",
    "train_x['away_losses_in_home'] = np.nan\n",
    "train_x['away_losses_in_away'] = np.nan\n",
    "train_x['away_recorded_matches'] = np.nan\n",
    "train_x['away_unrecorded_matches'] = np.nan\n",
    "for index in train_x.index:\n",
    "    train_x.at[index, 'away_wins_in_home'] = len([x for x in [i for i in range(1,11) if train_x.at[index,f'away_team_history_is_play_home_{i}_H']==1] if train_x.at[index,f'away_team_result_{x}']==2])\n",
    "    train_x.at[index, 'away_wins_in_away'] = len([x for x in [i for i in range(1,11) if train_x.at[index,f'away_team_history_is_play_home_{i}_A']==1] if train_x.at[index,f'away_team_result_{x}']==2])\n",
    "    \n",
    "    train_x.at[index, 'away_draws_in_home'] = len([x for x in [i for i in range(1,11) if train_x.at[index,f'away_team_history_is_play_home_{i}_H']==1] if train_x.at[index,f'away_team_result_{x}']==1])\n",
    "    train_x.at[index, 'away_draws_in_away'] = len([x for x in [i for i in range(1,11) if train_x.at[index,f'away_team_history_is_play_home_{i}_A']==1] if train_x.at[index,f'away_team_result_{x}']==1])\n",
    "    \n",
    "    train_x.at[index, 'away_losses_in_home'] = len([x for x in [i for i in range(1,11) if train_x.at[index,f'away_team_history_is_play_home_{i}_H']==1] if train_x.at[index,f'away_team_result_{x}']==0])\n",
    "    train_x.at[index, 'away_losses_in_away'] = len([x for x in [i for i in range(1,11) if train_x.at[index,f'away_team_history_is_play_home_{i}_A']==1] if train_x.at[index,f'away_team_result_{x}']==0])\n",
    "\n",
    "    train_x.at[index, 'away_recorded_matches'] = len([i for i in range(1,11) if train_x.at[index,f'away_team_history_is_play_home_{i}_H']==1 or train_x.at[index,f'away_team_history_is_play_home_{i}_A']==1])\n",
    "    train_x.at[index, 'away_unrecorded_matches'] = len([i for i in range(1,11) if train_x.at[index,f'away_team_history_is_play_home_{i}_H']==0 and train_x.at[index,f'away_team_history_is_play_home_{i}_A']==0])"
   ]
  },
  {
   "cell_type": "code",
   "execution_count": 37,
   "metadata": {},
   "outputs": [],
   "source": [
    "test_x['home_wins_in_home'] = np.nan\n",
    "test_x['home_wins_in_away'] = np.nan\n",
    "test_x['home_draws_in_home'] = np.nan\n",
    "test_x['home_draws_in_away'] = np.nan\n",
    "test_x['home_losses_in_home'] = np.nan\n",
    "test_x['home_losses_in_away'] = np.nan\n",
    "test_x['home_recorded_matches'] = np.nan\n",
    "test_x['home_unrecorded_matches'] = np.nan\n",
    "for index in test_x.index:\n",
    "    test_x.at[index, 'home_wins_in_home'] = len([x for x in [i for i in range(1,11) if test_x.at[index,f'home_team_history_is_play_home_{i}_H']==1] if test_x.at[index,f'home_team_result_{x}']==2])\n",
    "    test_x.at[index, 'home_wins_in_away'] = len([x for x in [i for i in range(1,11) if test_x.at[index,f'home_team_history_is_play_home_{i}_A']==1] if test_x.at[index,f'home_team_result_{x}']==2])\n",
    "    \n",
    "    test_x.at[index, 'home_draws_in_home'] = len([x for x in [i for i in range(1,11) if test_x.at[index,f'home_team_history_is_play_home_{i}_H']==1] if test_x.at[index,f'home_team_result_{x}']==1])\n",
    "    test_x.at[index, 'home_draws_in_away'] = len([x for x in [i for i in range(1,11) if test_x.at[index,f'home_team_history_is_play_home_{i}_A']==1] if test_x.at[index,f'home_team_result_{x}']==1])\n",
    "    \n",
    "    test_x.at[index, 'home_losses_in_home'] = len([x for x in [i for i in range(1,11) if test_x.at[index,f'home_team_history_is_play_home_{i}_H']==1] if test_x.at[index,f'home_team_result_{x}']==0])\n",
    "    test_x.at[index, 'home_losses_in_away'] = len([x for x in [i for i in range(1,11) if test_x.at[index,f'home_team_history_is_play_home_{i}_A']==1] if test_x.at[index,f'home_team_result_{x}']==0])\n",
    "\n",
    "    test_x.at[index, 'home_recorded_matches'] = len([i for i in range(1,11) if test_x.at[index,f'home_team_history_is_play_home_{i}_H']==1 or test_x.at[index,f'home_team_history_is_play_home_{i}_A']==1])\n",
    "    test_x.at[index, 'home_unrecorded_matches'] = len([i for i in range(1,11) if test_x.at[index,f'home_team_history_is_play_home_{i}_H']==0 and test_x.at[index,f'home_team_history_is_play_home_{i}_A']==0])\n",
    "\n",
    "\n",
    "test_x['away_wins_in_home'] = np.nan\n",
    "test_x['away_wins_in_away'] = np.nan\n",
    "test_x['away_draws_in_home'] = np.nan\n",
    "test_x['away_draws_in_away'] = np.nan\n",
    "test_x['away_losses_in_home'] = np.nan\n",
    "test_x['away_losses_in_away'] = np.nan\n",
    "test_x['away_recorded_matches'] = np.nan\n",
    "test_x['away_unrecorded_matches'] = np.nan\n",
    "for index in test_x.index:\n",
    "    test_x.at[index, 'away_wins_in_home'] = len([x for x in [i for i in range(1,11) if test_x.at[index,f'away_team_history_is_play_home_{i}_H']==1] if test_x.at[index,f'away_team_result_{x}']==2])\n",
    "    test_x.at[index, 'away_wins_in_away'] = len([x for x in [i for i in range(1,11) if test_x.at[index,f'away_team_history_is_play_home_{i}_A']==1] if test_x.at[index,f'away_team_result_{x}']==2])\n",
    "    \n",
    "    test_x.at[index, 'away_draws_in_home'] = len([x for x in [i for i in range(1,11) if test_x.at[index,f'away_team_history_is_play_home_{i}_H']==1] if test_x.at[index,f'away_team_result_{x}']==1])\n",
    "    test_x.at[index, 'away_draws_in_away'] = len([x for x in [i for i in range(1,11) if test_x.at[index,f'away_team_history_is_play_home_{i}_A']==1] if test_x.at[index,f'away_team_result_{x}']==1])\n",
    "    \n",
    "    test_x.at[index, 'away_losses_in_home'] = len([x for x in [i for i in range(1,11) if test_x.at[index,f'away_team_history_is_play_home_{i}_H']==1] if test_x.at[index,f'away_team_result_{x}']==0])\n",
    "    test_x.at[index, 'away_losses_in_away'] = len([x for x in [i for i in range(1,11) if test_x.at[index,f'away_team_history_is_play_home_{i}_A']==1] if test_x.at[index,f'away_team_result_{x}']==0])\n",
    "\n",
    "    test_x.at[index, 'away_recorded_matches'] = len([i for i in range(1,11) if test_x.at[index,f'away_team_history_is_play_home_{i}_H']==1 or test_x.at[index,f'away_team_history_is_play_home_{i}_A']==1])\n",
    "    test_x.at[index, 'away_unrecorded_matches'] = len([i for i in range(1,11) if test_x.at[index,f'away_team_history_is_play_home_{i}_H']==0 and test_x.at[index,f'away_team_history_is_play_home_{i}_A']==0])"
   ]
  },
  {
   "cell_type": "code",
   "execution_count": 38,
   "metadata": {},
   "outputs": [],
   "source": [
    "train_x['home_team_average_rest'] = train_x['home_team_history_match_DIFF_day_10'] / 10\n",
    "train_x['away_team_average_rest'] = train_x['away_team_history_match_DIFF_day_10'] / 10\n",
    "\n",
    "test_x['home_team_average_rest'] = test_x['home_team_history_match_DIFF_day_10'] / 10\n",
    "test_x['away_team_average_rest'] = test_x['away_team_history_match_DIFF_day_10'] / 10"
   ]
  },
  {
   "cell_type": "code",
   "execution_count": 39,
   "metadata": {},
   "outputs": [],
   "source": [
    "# print(train_x.columns.values)"
   ]
  },
  {
   "cell_type": "code",
   "execution_count": 40,
   "metadata": {},
   "outputs": [],
   "source": [
    "train_x['home_team_history_current_rest'] = train_x['home_team_history_match_DIFF_day_1']\n",
    "test_x['home_team_history_current_rest'] = test_x['home_team_history_match_DIFF_day_1']"
   ]
  },
  {
   "cell_type": "code",
   "execution_count": 41,
   "metadata": {},
   "outputs": [],
   "source": [
    "train_x['home_average_rating_difference_in_home'] = np.nan\n",
    "train_x['home_average_rating_difference_in_away'] = np.nan\n",
    "train_x['away_average_rating_difference_in_home'] = np.nan\n",
    "train_x['away_average_rating_difference_in_away'] = np.nan\n",
    "for index in train_x.index:\n",
    "    train_x.at[index, 'home_average_rating_difference_in_home'] = train_x.loc[index:index,[f'home_team_history_diff_rating_{x}' for x in [i for i in range(1,11) if train_x.at[index,f'home_team_history_is_play_home_{i}_H']==1]]].mean(axis=1)\n",
    "    train_x.at[index, 'home_average_rating_difference_in_away'] = train_x.loc[index:index,[f'home_team_history_diff_rating_{x}' for x in [i for i in range(1,11) if train_x.at[index,f'home_team_history_is_play_home_{i}_A']==1]]].mean(axis=1)\n",
    "\n",
    "    train_x.at[index, 'away_average_rating_difference_in_home'] = train_x.loc[index:index,[f'away_team_history_diff_rating_{x}' for x in [i for i in range(1,11) if train_x.at[index,f'away_team_history_is_play_home_{i}_H']==1]]].mean(axis=1)\n",
    "    train_x.at[index, 'away_average_rating_difference_in_away'] = train_x.loc[index:index,[f'away_team_history_diff_rating_{x}' for x in [i for i in range(1,11) if train_x.at[index,f'away_team_history_is_play_home_{i}_A']==1]]].mean(axis=1)\n",
    "\n",
    "test_x['home_average_rating_difference_in_home'] = np.nan\n",
    "test_x['home_average_rating_difference_in_away'] = np.nan\n",
    "test_x['away_average_rating_difference_in_home'] = np.nan\n",
    "test_x['away_average_rating_difference_in_away'] = np.nan\n",
    "for index in test_x.index:\n",
    "    test_x.at[index, 'home_average_rating_difference_in_home'] = test_x.loc[index:index,[f'home_team_history_diff_rating_{x}' for x in [i for i in range(1,11) if test_x.at[index,f'home_team_history_is_play_home_{i}_H']==1]]].mean(axis=1)\n",
    "    test_x.at[index, 'home_average_rating_difference_in_away'] = test_x.loc[index:index,[f'home_team_history_diff_rating_{x}' for x in [i for i in range(1,11) if test_x.at[index,f'home_team_history_is_play_home_{i}_A']==1]]].mean(axis=1)\n",
    "\n",
    "    test_x.at[index, 'away_average_rating_difference_in_home'] = test_x.loc[index:index,[f'away_team_history_diff_rating_{x}' for x in [i for i in range(1,11) if test_x.at[index,f'away_team_history_is_play_home_{i}_H']==1]]].mean(axis=1)\n",
    "    test_x.at[index, 'away_average_rating_difference_in_away'] = test_x.loc[index:index,[f'away_team_history_diff_rating_{x}' for x in [i for i in range(1,11) if test_x.at[index,f'away_team_history_is_play_home_{i}_A']==1]]].mean(axis=1)\n"
   ]
  },
  {
   "cell_type": "code",
   "execution_count": 42,
   "metadata": {},
   "outputs": [],
   "source": [
    "def dropCols(df):\n",
    "    drop_list = [\n",
    "        'home_team_history_is_cup_',\n",
    "        'home_team_history_goal_',\n",
    "        'home_team_history_opponent_goal_',\n",
    "        'home_team_history_rating_',\n",
    "        'home_team_history_opponent_rating_',\n",
    "        'away_team_history_is_cup_',\n",
    "        'away_team_history_goal_',\n",
    "        'away_team_history_opponent_goal_',\n",
    "        'away_team_history_rating_',\n",
    "        'away_team_history_opponent_rating_',\n",
    "        'home_team_history_is_play_home_',\n",
    "        'away_team_history_is_play_home_',\n",
    "        'home_team_history_match_DIFF_day_',\n",
    "        'away_team_history_match_DIFF_day_',\n",
    "        'home_team_history_DIFF_goal_',\n",
    "        'away_team_history_DIFF_goal_',\n",
    "        'home_team_result_',\n",
    "        'away_team_result_',\n",
    "        'home_team_history_diff_rating_',\n",
    "        'away_team_history_diff_rating_',\n",
    "        'home_away_team_history_diff_rating_',\n",
    "        'home_team_history_SAME_coaX_',\n",
    "        'away_team_history_SAME_coaX_',\n",
    "        'home_team_history_SAME_leaG_',\n",
    "        'away_team_history_SAME_leaG_',\n",
    "        'home_team_history_match_DIFF_day_'\n",
    "    ]\n",
    "\n",
    "    for pres in drop_list:\n",
    "        # print(pres)\n",
    "        df.drop(df.filter(regex=pres).columns, axis=1, inplace = True)\n",
    "\n",
    "    return df\n",
    "\n"
   ]
  },
  {
   "cell_type": "code",
   "execution_count": 43,
   "metadata": {},
   "outputs": [],
   "source": [
    "train_x.to_csv('train_with_all.csv')\n",
    "test_x.to_csv('test_with_all.csv')"
   ]
  },
  {
   "cell_type": "code",
   "execution_count": 44,
   "metadata": {},
   "outputs": [],
   "source": [
    "train_x = dropCols(train_x)\n",
    "test_x = dropCols(test_x)"
   ]
  },
  {
   "cell_type": "code",
   "execution_count": 45,
   "metadata": {},
   "outputs": [],
   "source": [
    "train_x.to_csv('train_reduced.csv')\n",
    "test_x.to_csv('test_reduced.csv')\n"
   ]
  },
  {
   "cell_type": "code",
   "execution_count": 46,
   "metadata": {},
   "outputs": [],
   "source": [
    "train_y.to_csv('target.csv',index=False)"
   ]
  }
 ],
 "metadata": {
  "interpreter": {
   "hash": "5136b3441c1aae334fcabb9e2b984104b6558a7c9b7814e0882a0d0a0c44c5aa"
  },
  "kernelspec": {
   "display_name": "Python 3.9.12 64-bit (windows store)",
   "language": "python",
   "name": "python3"
  },
  "language_info": {
   "codemirror_mode": {
    "name": "ipython",
    "version": 3
   },
   "file_extension": ".py",
   "mimetype": "text/x-python",
   "name": "python",
   "nbconvert_exporter": "python",
   "pygments_lexer": "ipython3",
   "version": "3.9.12"
  },
  "orig_nbformat": 4
 },
 "nbformat": 4,
 "nbformat_minor": 2
}
