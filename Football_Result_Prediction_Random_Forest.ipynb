{
  "nbformat": 4,
  "nbformat_minor": 0,
  "metadata": {
    "colab": {
      "name": "Football_Result_Prediction_Random_Forest.ipynb",
      "provenance": []
    },
    "kernelspec": {
      "name": "python3",
      "display_name": "Python 3"
    },
    "language_info": {
      "name": "python"
    }
  },
  "cells": [
    {
      "cell_type": "code",
      "execution_count": 1,
      "metadata": {
        "id": "11kFPOXctQHU"
      },
      "outputs": [],
      "source": [
        "import numpy as np\n",
        "import pandas as pd"
      ]
    },
    {
      "cell_type": "code",
      "source": [
        "from google.colab import drive\n",
        "drive.mount('/content/drive')"
      ],
      "metadata": {
        "id": "lLoXDdt-y_ut",
        "colab": {
          "base_uri": "https://localhost:8080/"
        },
        "outputId": "da9efba2-fff1-49a6-8530-394b91a83849"
      },
      "execution_count": 2,
      "outputs": [
        {
          "output_type": "stream",
          "name": "stdout",
          "text": [
            "Mounted at /content/drive\n"
          ]
        }
      ]
    },
    {
      "cell_type": "code",
      "source": [
        "%ls"
      ],
      "metadata": {
        "id": "5tJ0Ia0ozn7o",
        "colab": {
          "base_uri": "https://localhost:8080/"
        },
        "outputId": "45536323-335d-4790-f2d5-68ee6d86afac"
      },
      "execution_count": 3,
      "outputs": [
        {
          "output_type": "stream",
          "name": "stdout",
          "text": [
            "\u001b[0m\u001b[01;34mdrive\u001b[0m/  \u001b[01;34msample_data\u001b[0m/\n"
          ]
        }
      ]
    },
    {
      "cell_type": "code",
      "source": [
        "test = pd.read_csv(\"/content/drive/MyDrive/7313Project/test_reduced.csv\")\n",
        "train = pd.read_csv(\"/content/drive/MyDrive/7313Project/train_reduced.csv\")\n",
        "testn = pd.read_csv(\"/content/drive/MyDrive/7313Project/test_reduced.csv\")\n",
        "target = pd.read_csv(\"/content/drive/MyDrive/7313Project/target.csv\")"
      ],
      "metadata": {
        "id": "zo7RWdrYzLme",
        "colab": {
          "base_uri": "https://localhost:8080/"
        },
        "outputId": "70609ebf-f52b-4094-cc07-b15d801bd9fa"
      },
      "execution_count": 4,
      "outputs": [
        {
          "output_type": "stream",
          "name": "stderr",
          "text": [
            "/usr/local/lib/python3.7/dist-packages/IPython/core/interactiveshell.py:2882: DtypeWarning: Columns (2) have mixed types.Specify dtype option on import or set low_memory=False.\n",
            "  exec(code_obj, self.user_global_ns, self.user_ns)\n"
          ]
        }
      ]
    },
    {
      "cell_type": "code",
      "source": [
        "train.drop(train.iloc[:, [0,1]], axis=1, inplace=True)\n",
        "test.drop(test.iloc[:, [0,1]], axis=1, inplace=True)"
      ],
      "metadata": {
        "id": "Q698yCjYzwsd"
      },
      "execution_count": 5,
      "outputs": []
    },
    {
      "cell_type": "code",
      "source": [
        "from sklearn.preprocessing import LabelEncoder\n",
        "labelencoder = LabelEncoder()"
      ],
      "metadata": {
        "id": "ekyUTfuE6nww"
      },
      "execution_count": 6,
      "outputs": []
    },
    {
      "cell_type": "code",
      "source": [
        "train['is_cup'] = labelencoder.fit_transform(train['is_cup'])\n",
        "test['is_cup'] = labelencoder.fit_transform(test['is_cup'])\n",
        "target['target'].replace({\"home\": 0, \"draw\": 1, \"away\":2}, inplace=True)\n",
        "train.drop(train.filter(regex='recorded_matches').columns, axis=1, inplace = True)\n",
        "test.drop(test.filter(regex='recorded_matches').columns, axis=1, inplace = True)\n",
        "train_x = train.copy()\n",
        "train_y = target['target'].copy()\n",
        "train_x.fillna(train_x.mean(), inplace=True)\n",
        "test.fillna(test.mean(), inplace=True)"
      ],
      "metadata": {
        "id": "AouFQ1g-0O1c"
      },
      "execution_count": 7,
      "outputs": []
    },
    {
      "cell_type": "code",
      "source": [
        "from sklearn.preprocessing import StandardScaler\n",
        "#fit scaler on training data\n",
        "norm = StandardScaler().fit(train_x)\n",
        "#transform training data\n",
        "xtrain_norm = norm.transform(train_x)\n",
        "#transform testing data\n",
        "test_norm = norm.transform(test)"
      ],
      "metadata": {
        "id": "9ROUSxepAAmr"
      },
      "execution_count": 8,
      "outputs": []
    },
    {
      "cell_type": "code",
      "source": [
        "from sklearn.tree import DecisionTreeClassifier\n",
        "from sklearn.model_selection import train_test_split\n",
        "from sklearn.ensemble import BaggingClassifier\n",
        "from sklearn.ensemble import AdaBoostClassifier\n",
        "from sklearn.ensemble import RandomForestClassifier\n",
        "from sklearn.model_selection import cross_val_score\n",
        "\n",
        "\n",
        "# cv_acc = cross_val_score(estimator=RandomForestClassifier(n_estimators=50, random_state=1),\n",
        "#                          X=xtrain_norm,\n",
        "#                          y=train_y,\n",
        "#                          cv=5,\n",
        "#                          n_jobs=5)\n",
        "\n",
        "# print('Kfold Accuracy: %.2f%%' % (np.mean(cv_acc)*100))"
      ],
      "metadata": {
        "id": "XucCkKPTI09r"
      },
      "execution_count": 9,
      "outputs": []
    },
    {
      "cell_type": "code",
      "source": [
        "# forest = RandomForestClassifier(n_estimators=300,\n",
        "#                                 random_state=1)\n",
        "\n",
        "# forest.fit(xtrain_norm, train_y)\n",
        "\n",
        "# y_pred = forest.predict(xtrain_norm)\n",
        "# acc = np.mean(y_pred == train_y)*100\n",
        "# acc"
      ],
      "metadata": {
        "id": "BaV_YCDClZNR"
      },
      "execution_count": 10,
      "outputs": []
    },
    {
      "cell_type": "code",
      "source": [
        "# from mlxtend.evaluate import confusion_matrix\n",
        "# confmat = confusion_matrix(train_y, y_pred)\n",
        "\n",
        "# print(confmat)"
      ],
      "metadata": {
        "id": "7fSb_61ijz0Z"
      },
      "execution_count": 11,
      "outputs": []
    },
    {
      "cell_type": "code",
      "source": [
        "# prediction_1 = forest.predict_proba(test_norm)\n",
        "# prediction_1"
      ],
      "metadata": {
        "id": "VdKJfv7eBWgo"
      },
      "execution_count": 12,
      "outputs": []
    },
    {
      "cell_type": "code",
      "source": [
        "from sklearn.model_selection import KFold, StratifiedKFold\n",
        "import xgboost as xgb\n",
        "from mlxtend.evaluate import confusion_matrix\n",
        "test_preds_1 = []\n",
        "test_preds_2 = []\n",
        "\n",
        "kf = StratifiedKFold(n_splits=5, random_state=123, shuffle=True) # KFold\n",
        "i=0\n",
        "for fold, (train_idx, test_idx) in enumerate(kf.split(xtrain_norm, train_y)):\n",
        "    i=i+1\n",
        "    print(i)\n",
        "    X_train, X_test = xtrain_norm[train_idx], xtrain_norm[test_idx]\n",
        "    y_train, y_test = train_y.iloc[train_idx], train_y.iloc[test_idx]\n",
        "    model = RandomForestClassifier(n_estimators=300,\n",
        "                                random_state=1)\n",
        "    model.fit(X_train, y_train)\n",
        "    y_pred = model.predict(X_test)\n",
        "    train_acc = np.mean(y_pred == y_test)*100\n",
        "    confmat = confusion_matrix(y_pred, y_test)\n",
        "    print(train_acc)\n",
        "    print(confmat)\n",
        "    test_preds_1.append(model.predict_proba(xtrain_norm).squeeze())\n",
        "    test_preds_2.append(model.predict_proba(test_norm).squeeze())"
      ],
      "metadata": {
        "id": "nOgas4LE3BTp",
        "colab": {
          "base_uri": "https://localhost:8080/"
        },
        "outputId": "bef6c390-8537-4b80-a28b-9299a116b727"
      },
      "execution_count": 14,
      "outputs": [
        {
          "output_type": "stream",
          "name": "stdout",
          "text": [
            "1\n",
            "49.22931314223905\n",
            "[[7535 3665 3673]\n",
            " [ 280  266  240]\n",
            " [1808 1599 3122]]\n",
            "2\n",
            "48.81016765819362\n",
            "[[7539 3736 3758]\n",
            " [ 245  240  226]\n",
            " [1839 1554 3051]]\n",
            "3\n",
            "49.63944474490716\n",
            "[[7564 3673 3607]\n",
            " [ 278  256  234]\n",
            " [1780 1602 3194]]\n",
            "4\n",
            "49.091810519673686\n",
            "[[7546 3667 3686]\n",
            " [ 248  222  225]\n",
            " [1828 1641 3124]]\n",
            "5\n",
            "49.03772479379817\n",
            "[[7587 3660 3747]\n",
            " [ 272  260  254]\n",
            " [1764 1610 3033]]\n"
          ]
        }
      ]
    },
    {
      "cell_type": "code",
      "source": [
        "from mlxtend.evaluate import confusion_matrix\n",
        "predictions = sum(test_preds_1)/5\n",
        "classes = np.argmax(predictions, axis = 1)\n",
        "print(classes)\n",
        "y_true = train_y.squeeze()\n",
        "confmat = confusion_matrix(y_true, classes)\n",
        "\n",
        "print(confmat)"
      ],
      "metadata": {
        "id": "LRJMsetC_v4q",
        "colab": {
          "base_uri": "https://localhost:8080/"
        },
        "outputId": "98c3df46-7cd6-48c1-b4a7-68fc2b3fbd50"
      },
      "execution_count": 15,
      "outputs": [
        {
          "output_type": "stream",
          "name": "stdout",
          "text": [
            "[2 0 1 ... 1 2 0]\n",
            "[[48107     0     6]\n",
            " [   74 27574     3]\n",
            " [  125     0 35049]]\n"
          ]
        }
      ]
    },
    {
      "cell_type": "code",
      "source": [
        "train_acc = np.mean(classes == y_true)*100\n",
        "train_acc"
      ],
      "metadata": {
        "id": "qGkYhoL20CnJ",
        "colab": {
          "base_uri": "https://localhost:8080/"
        },
        "outputId": "e2064cb7-b42f-440c-94f7-a4e7890ffba5"
      },
      "execution_count": 16,
      "outputs": [
        {
          "output_type": "execute_result",
          "data": {
            "text/plain": [
              "99.81250788728839"
            ]
          },
          "metadata": {},
          "execution_count": 16
        }
      ]
    },
    {
      "cell_type": "code",
      "source": [
        "prediction_1 = sum(test_preds_2)/5\n",
        "prediction_1"
      ],
      "metadata": {
        "id": "WjFreNo__v4r",
        "colab": {
          "base_uri": "https://localhost:8080/"
        },
        "outputId": "82b3f04b-5e8e-420c-a644-3880c820059f"
      },
      "execution_count": 17,
      "outputs": [
        {
          "output_type": "execute_result",
          "data": {
            "text/plain": [
              "array([[0.32666667, 0.368     , 0.30533333],\n",
              "       [0.38733333, 0.268     , 0.34466667],\n",
              "       [0.43933333, 0.24466667, 0.316     ],\n",
              "       ...,\n",
              "       [0.3       , 0.28933333, 0.41066667],\n",
              "       [0.514     , 0.29066667, 0.19533333],\n",
              "       [0.34266667, 0.30533333, 0.352     ]])"
            ]
          },
          "metadata": {},
          "execution_count": 17
        }
      ]
    },
    {
      "cell_type": "code",
      "source": [
        "submission = pd.concat([pd.DataFrame(testn['id']), pd.DataFrame(prediction_1, columns=['home', 'draw', 'away'])[['home', 'draw', 'away']]], axis=1)\n",
        "submission.to_csv('/content/drive/MyDrive/7313Project/submission_forest.csv', index=False)"
      ],
      "metadata": {
        "id": "kSeeT5PuBpQv"
      },
      "execution_count": 18,
      "outputs": []
    }
  ]
}